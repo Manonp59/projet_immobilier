{
 "cells": [
  {
   "cell_type": "code",
   "execution_count": 2,
   "metadata": {},
   "outputs": [],
   "source": [
    "# import des packages nécessaires à l'exécution du code \n",
    "\n",
    "import pandas as pd \n",
    "from sklearn.model_selection import train_test_split\n",
    "from sklearn import linear_model\n",
    "from sklearn.neighbors import KNeighborsRegressor\n",
    "from sklearn.pipeline import Pipeline\n",
    "from sklearn.preprocessing import MinMaxScaler\n",
    "from sklearn.preprocessing import OneHotEncoder\n",
    "from sklearn.preprocessing import PolynomialFeatures\n",
    "from sklearn.compose import ColumnTransformer\n",
    "from sklearn.model_selection import GridSearchCV\n",
    "import matplotlib.pyplot as plt\n",
    "import numpy as np"
   ]
  },
  {
   "attachments": {},
   "cell_type": "markdown",
   "metadata": {},
   "source": [
    "## Modèles naïfs"
   ]
  },
  {
   "cell_type": "code",
   "execution_count": 3,
   "metadata": {},
   "outputs": [],
   "source": [
    "df_model = pd.read_csv('data_cleaned.csv')"
   ]
  },
  {
   "cell_type": "code",
   "execution_count": 4,
   "metadata": {},
   "outputs": [
    {
     "data": {
      "text/plain": [
       "0.88581251325"
      ]
     },
     "execution_count": 4,
     "metadata": {},
     "output_type": "execute_result"
    }
   ],
   "source": [
    "X = df_model.drop(['price','date'], axis=1)\n",
    "y = df_model['price']\n",
    "X_train, X_test, y_train, y_test = train_test_split(X,y,test_size=0.2,random_state=420)\n",
    "\n",
    "regression = linear_model.LinearRegression()\n",
    "\n",
    "\n",
    "regression.fit(X_train, y_train)\n",
    "regression.predict(X_test)\n",
    "regression.score(X_test, y_test)"
   ]
  },
  {
   "cell_type": "code",
   "execution_count": 5,
   "metadata": {},
   "outputs": [
    {
     "data": {
      "text/plain": [
       "0.35799355052515125"
      ]
     },
     "execution_count": 5,
     "metadata": {},
     "output_type": "execute_result"
    }
   ],
   "source": [
    "X = df_model.drop(['price','date'], axis=1)\n",
    "y = df_model['price']\n",
    "X_train, X_test, y_train, y_test = train_test_split(X,y,test_size=0.2,random_state=420)\n",
    "\n",
    "knn = KNeighborsRegressor()\n",
    "\n",
    "\n",
    "knn.fit(X_train, y_train)\n",
    "knn.predict(X_test)\n",
    "knn.score(X_test, y_test)"
   ]
  },
  {
   "attachments": {},
   "cell_type": "markdown",
   "metadata": {},
   "source": [
    "## Modèle 1 - Régression linéaire avec valeurs extrêmes, avec des variables qu'on ne peut pas demander à l'utilisateur"
   ]
  },
  {
   "attachments": {},
   "cell_type": "markdown",
   "metadata": {},
   "source": [
    "Ce modèle sera celui qui contient les valeurs extrêmes : moins précis mais moins restrictif. On prend ici en compte les zipcode et non latitude/longitude. Les features sont : \n",
    "- bedrooms\n",
    "- bathrooms\n",
    "- m2_living \n",
    "- yr_renovated\n",
    "- yr-built\n",
    "- grade\n",
    "- m2_above\n",
    "- m2_living15\n",
    "- price_m2\n",
    "- view\n",
    "- m2_basement\n",
    "- waterfront\n",
    "- floors\n",
    "- m2_lot\n",
    "- m2_lot15\n",
    "- condition\n",
    "- zipcode"
   ]
  },
  {
   "attachments": {},
   "cell_type": "markdown",
   "metadata": {},
   "source": [
    "Preprocessing : \n",
    "- MinMaxScaler\n",
    "- Onehotencoding"
   ]
  },
  {
   "attachments": {},
   "cell_type": "markdown",
   "metadata": {},
   "source": [
    "Problème :\n",
    "- variables que l'utilisateur ne connait pas"
   ]
  },
  {
   "cell_type": "code",
   "execution_count": 6,
   "metadata": {},
   "outputs": [],
   "source": [
    "df_model = pd.read_csv('data_cleaned.csv')\n"
   ]
  },
  {
   "cell_type": "code",
   "execution_count": 7,
   "metadata": {},
   "outputs": [
    {
     "data": {
      "text/plain": [
       "date             object\n",
       "id                int64\n",
       "price           float64\n",
       "bedrooms          int64\n",
       "bathrooms       float64\n",
       "m2_living       float64\n",
       "m2_lot          float64\n",
       "floors          float64\n",
       "waterfront        int64\n",
       "view              int64\n",
       "condition         int64\n",
       "grade             int64\n",
       "m2_above        float64\n",
       "m2_basement     float64\n",
       "yr_built          int64\n",
       "yr_renovated      int64\n",
       "zipcode           int64\n",
       "lat             float64\n",
       "long            float64\n",
       "m2_living15     float64\n",
       "m2_lot15        float64\n",
       "price_m2        float64\n",
       "dtype: object"
      ]
     },
     "execution_count": 7,
     "metadata": {},
     "output_type": "execute_result"
    }
   ],
   "source": [
    "df_model.dtypes"
   ]
  },
  {
   "cell_type": "code",
   "execution_count": 8,
   "metadata": {},
   "outputs": [
    {
     "data": {
      "text/html": [
       "<div>\n",
       "<style scoped>\n",
       "    .dataframe tbody tr th:only-of-type {\n",
       "        vertical-align: middle;\n",
       "    }\n",
       "\n",
       "    .dataframe tbody tr th {\n",
       "        vertical-align: top;\n",
       "    }\n",
       "\n",
       "    .dataframe thead th {\n",
       "        text-align: right;\n",
       "    }\n",
       "</style>\n",
       "<table border=\"1\" class=\"dataframe\">\n",
       "  <thead>\n",
       "    <tr style=\"text-align: right;\">\n",
       "      <th></th>\n",
       "      <th>date</th>\n",
       "      <th>id</th>\n",
       "      <th>price</th>\n",
       "      <th>bedrooms</th>\n",
       "      <th>bathrooms</th>\n",
       "      <th>m2_living</th>\n",
       "      <th>m2_lot</th>\n",
       "      <th>floors</th>\n",
       "      <th>waterfront</th>\n",
       "      <th>view</th>\n",
       "      <th>...</th>\n",
       "      <th>m2_above</th>\n",
       "      <th>m2_basement</th>\n",
       "      <th>yr_built</th>\n",
       "      <th>yr_renovated</th>\n",
       "      <th>zipcode</th>\n",
       "      <th>lat</th>\n",
       "      <th>long</th>\n",
       "      <th>m2_living15</th>\n",
       "      <th>m2_lot15</th>\n",
       "      <th>price_m2</th>\n",
       "    </tr>\n",
       "  </thead>\n",
       "  <tbody>\n",
       "    <tr>\n",
       "      <th>0</th>\n",
       "      <td>2014-10-13</td>\n",
       "      <td>7129300520</td>\n",
       "      <td>221900.0</td>\n",
       "      <td>3</td>\n",
       "      <td>1.00</td>\n",
       "      <td>109.62554</td>\n",
       "      <td>524.901950</td>\n",
       "      <td>1.0</td>\n",
       "      <td>0</td>\n",
       "      <td>0</td>\n",
       "      <td>...</td>\n",
       "      <td>109.62554</td>\n",
       "      <td>0.00000</td>\n",
       "      <td>1955</td>\n",
       "      <td>0</td>\n",
       "      <td>98178</td>\n",
       "      <td>47.5112</td>\n",
       "      <td>-122.257</td>\n",
       "      <td>124.49002</td>\n",
       "      <td>524.901950</td>\n",
       "      <td>2024.163347</td>\n",
       "    </tr>\n",
       "    <tr>\n",
       "      <th>1</th>\n",
       "      <td>2014-12-09</td>\n",
       "      <td>6414100192</td>\n",
       "      <td>538000.0</td>\n",
       "      <td>3</td>\n",
       "      <td>2.25</td>\n",
       "      <td>238.76071</td>\n",
       "      <td>672.803526</td>\n",
       "      <td>2.0</td>\n",
       "      <td>0</td>\n",
       "      <td>0</td>\n",
       "      <td>...</td>\n",
       "      <td>201.59951</td>\n",
       "      <td>37.16120</td>\n",
       "      <td>1951</td>\n",
       "      <td>1991</td>\n",
       "      <td>98125</td>\n",
       "      <td>47.7210</td>\n",
       "      <td>-122.319</td>\n",
       "      <td>157.00607</td>\n",
       "      <td>709.686017</td>\n",
       "      <td>2253.302061</td>\n",
       "    </tr>\n",
       "    <tr>\n",
       "      <th>2</th>\n",
       "      <td>2015-02-25</td>\n",
       "      <td>5631500400</td>\n",
       "      <td>180000.0</td>\n",
       "      <td>2</td>\n",
       "      <td>1.00</td>\n",
       "      <td>71.53531</td>\n",
       "      <td>929.030000</td>\n",
       "      <td>1.0</td>\n",
       "      <td>0</td>\n",
       "      <td>0</td>\n",
       "      <td>...</td>\n",
       "      <td>71.53531</td>\n",
       "      <td>0.00000</td>\n",
       "      <td>1933</td>\n",
       "      <td>0</td>\n",
       "      <td>98028</td>\n",
       "      <td>47.7379</td>\n",
       "      <td>-122.233</td>\n",
       "      <td>252.69616</td>\n",
       "      <td>748.983986</td>\n",
       "      <td>2516.239882</td>\n",
       "    </tr>\n",
       "    <tr>\n",
       "      <th>3</th>\n",
       "      <td>2014-12-09</td>\n",
       "      <td>2487200875</td>\n",
       "      <td>604000.0</td>\n",
       "      <td>4</td>\n",
       "      <td>3.00</td>\n",
       "      <td>182.08988</td>\n",
       "      <td>464.515000</td>\n",
       "      <td>1.0</td>\n",
       "      <td>0</td>\n",
       "      <td>0</td>\n",
       "      <td>...</td>\n",
       "      <td>97.54815</td>\n",
       "      <td>84.54173</td>\n",
       "      <td>1965</td>\n",
       "      <td>0</td>\n",
       "      <td>98136</td>\n",
       "      <td>47.5208</td>\n",
       "      <td>-122.393</td>\n",
       "      <td>126.34808</td>\n",
       "      <td>464.515000</td>\n",
       "      <td>3317.043210</td>\n",
       "    </tr>\n",
       "    <tr>\n",
       "      <th>4</th>\n",
       "      <td>2015-02-18</td>\n",
       "      <td>1954400510</td>\n",
       "      <td>510000.0</td>\n",
       "      <td>3</td>\n",
       "      <td>2.00</td>\n",
       "      <td>156.07704</td>\n",
       "      <td>750.656240</td>\n",
       "      <td>1.0</td>\n",
       "      <td>0</td>\n",
       "      <td>0</td>\n",
       "      <td>...</td>\n",
       "      <td>156.07704</td>\n",
       "      <td>0.00000</td>\n",
       "      <td>1987</td>\n",
       "      <td>0</td>\n",
       "      <td>98074</td>\n",
       "      <td>47.6168</td>\n",
       "      <td>-122.045</td>\n",
       "      <td>167.22540</td>\n",
       "      <td>697.051209</td>\n",
       "      <td>3267.617069</td>\n",
       "    </tr>\n",
       "  </tbody>\n",
       "</table>\n",
       "<p>5 rows × 22 columns</p>\n",
       "</div>"
      ],
      "text/plain": [
       "         date          id     price  bedrooms  bathrooms  m2_living  \\\n",
       "0  2014-10-13  7129300520  221900.0         3       1.00  109.62554   \n",
       "1  2014-12-09  6414100192  538000.0         3       2.25  238.76071   \n",
       "2  2015-02-25  5631500400  180000.0         2       1.00   71.53531   \n",
       "3  2014-12-09  2487200875  604000.0         4       3.00  182.08988   \n",
       "4  2015-02-18  1954400510  510000.0         3       2.00  156.07704   \n",
       "\n",
       "       m2_lot  floors  waterfront  view  ...   m2_above  m2_basement  \\\n",
       "0  524.901950     1.0           0     0  ...  109.62554      0.00000   \n",
       "1  672.803526     2.0           0     0  ...  201.59951     37.16120   \n",
       "2  929.030000     1.0           0     0  ...   71.53531      0.00000   \n",
       "3  464.515000     1.0           0     0  ...   97.54815     84.54173   \n",
       "4  750.656240     1.0           0     0  ...  156.07704      0.00000   \n",
       "\n",
       "   yr_built  yr_renovated  zipcode      lat     long  m2_living15    m2_lot15  \\\n",
       "0      1955             0    98178  47.5112 -122.257    124.49002  524.901950   \n",
       "1      1951          1991    98125  47.7210 -122.319    157.00607  709.686017   \n",
       "2      1933             0    98028  47.7379 -122.233    252.69616  748.983986   \n",
       "3      1965             0    98136  47.5208 -122.393    126.34808  464.515000   \n",
       "4      1987             0    98074  47.6168 -122.045    167.22540  697.051209   \n",
       "\n",
       "      price_m2  \n",
       "0  2024.163347  \n",
       "1  2253.302061  \n",
       "2  2516.239882  \n",
       "3  3317.043210  \n",
       "4  3267.617069  \n",
       "\n",
       "[5 rows x 22 columns]"
      ]
     },
     "execution_count": 8,
     "metadata": {},
     "output_type": "execute_result"
    }
   ],
   "source": [
    "df_model.head(5)"
   ]
  },
  {
   "cell_type": "code",
   "execution_count": 9,
   "metadata": {},
   "outputs": [],
   "source": [
    "X = df_model.drop(['date','price','id'], axis=1)\n",
    "y = df_model['price']\n",
    "X_train, X_test, y_train, y_test = train_test_split(X,y,test_size=0.2,random_state=420)\n",
    "\n",
    "numeric_features = list(X.select_dtypes(include=['float64','int64']).columns)\n",
    "catagorical_features = ['zipcode']\n",
    "\n",
    "numeric_transformer = Pipeline([\n",
    "    ('min_max', MinMaxScaler())\n",
    "])\n",
    "\n",
    "catagorical_transformer = OneHotEncoder(sparse=True)\n",
    "\n",
    "preprocessor = ColumnTransformer(\n",
    "    transformers=[\n",
    "        ('num', numeric_transformer, numeric_features),\n",
    "        ('cat', catagorical_transformer, catagorical_features)\n",
    "    ])\n",
    "\n",
    "regression = linear_model.LinearRegression()\n",
    "\n",
    "pipe = Pipeline([\n",
    "    ('prep',preprocessor),\n",
    "    ('reg',regression)\n",
    "                \n",
    "])"
   ]
  },
  {
   "cell_type": "code",
   "execution_count": 10,
   "metadata": {},
   "outputs": [
    {
     "name": "stderr",
     "output_type": "stream",
     "text": [
      "/home/apprenant/miniconda3/envs/machine-learning/lib/python3.10/site-packages/sklearn/preprocessing/_encoders.py:828: FutureWarning: `sparse` was renamed to `sparse_output` in version 1.2 and will be removed in 1.4. `sparse_output` is ignored unless you leave `sparse` to its default value.\n",
      "  warnings.warn(\n"
     ]
    }
   ],
   "source": [
    "trained_pipe = pipe.fit(X_train, y_train)"
   ]
  },
  {
   "cell_type": "code",
   "execution_count": 11,
   "metadata": {},
   "outputs": [],
   "source": [
    "predictions = trained_pipe.predict(X_test)"
   ]
  },
  {
   "cell_type": "code",
   "execution_count": 12,
   "metadata": {},
   "outputs": [
    {
     "data": {
      "text/plain": [
       "0.8998676630605593"
      ]
     },
     "execution_count": 12,
     "metadata": {},
     "output_type": "execute_result"
    }
   ],
   "source": [
    "trained_pipe.score(X_test, y_test)"
   ]
  },
  {
   "cell_type": "code",
   "execution_count": 13,
   "metadata": {},
   "outputs": [
    {
     "data": {
      "text/plain": [
       "[<matplotlib.lines.Line2D at 0x7fe866d9f790>]"
      ]
     },
     "execution_count": 13,
     "metadata": {},
     "output_type": "execute_result"
    },
    {
     "data": {
      "image/png": "[encoded data removed]",
      "text/plain": [
       "<Figure size 640x480 with 1 Axes>"
      ]
     },
     "metadata": {},
     "output_type": "display_data"
    }
   ],
   "source": [
    "plt.scatter(y_test,predictions)\n",
    "plt.plot([y_test.min(), y_test.max()], [y_test.min(), y_test.max()], 'k--')\n"
   ]
  },
  {
   "cell_type": "code",
   "execution_count": 14,
   "metadata": {},
   "outputs": [
    {
     "data": {
      "text/plain": [
       "array([275953.45303011, 335786.36569874, 544806.13485313, ...,\n",
       "       355212.3743482 , 683610.98213834, 530353.34794226])"
      ]
     },
     "execution_count": 14,
     "metadata": {},
     "output_type": "execute_result"
    }
   ],
   "source": [
    "predictions"
   ]
  },
  {
   "cell_type": "code",
   "execution_count": 15,
   "metadata": {},
   "outputs": [
    {
     "data": {
      "text/plain": [
       "8878     289900.0\n",
       "14851    345000.0\n",
       "1564     610000.0\n",
       "4055     363000.0\n",
       "7526     376000.0\n",
       "           ...   \n",
       "8892     440000.0\n",
       "14761    530000.0\n",
       "14288    400000.0\n",
       "7275     693000.0\n",
       "20522    374500.0\n",
       "Name: price, Length: 4322, dtype: float64"
      ]
     },
     "execution_count": 15,
     "metadata": {},
     "output_type": "execute_result"
    }
   ],
   "source": [
    "y_test"
   ]
  },
  {
   "attachments": {},
   "cell_type": "markdown",
   "metadata": {},
   "source": [
    "## Modèle 2 - Régression linéaire sans valeur extrême, avec variables qu'on ne peut pas demander à l'utilisateur"
   ]
  },
  {
   "attachments": {},
   "cell_type": "markdown",
   "metadata": {},
   "source": [
    "Ce modèle sera celui qui ne contient pas les valeurs extrêmes : plus précis mais plus restrictif. On prend ici en compte les zipcode et non latitude/longitude. Les features sont : \n",
    "- bedrooms\n",
    "- bathrooms\n",
    "- m2_living \n",
    "- yr_renovated\n",
    "- yr-built\n",
    "- grade\n",
    "- m2_above\n",
    "- m2_living15\n",
    "- price_m2\n",
    "- view\n",
    "- m2_basement\n",
    "- waterfront\n",
    "- floors\n",
    "- m2_lot\n",
    "- m2_lot15\n",
    "- condition"
   ]
  },
  {
   "cell_type": "code",
   "execution_count": 16,
   "metadata": {},
   "outputs": [],
   "source": [
    "df_model_filtre = pd.read_csv('data_cleaned2.csv')\n"
   ]
  },
  {
   "cell_type": "code",
   "execution_count": 17,
   "metadata": {},
   "outputs": [
    {
     "data": {
      "text/html": [
       "<div>\n",
       "<style scoped>\n",
       "    .dataframe tbody tr th:only-of-type {\n",
       "        vertical-align: middle;\n",
       "    }\n",
       "\n",
       "    .dataframe tbody tr th {\n",
       "        vertical-align: top;\n",
       "    }\n",
       "\n",
       "    .dataframe thead th {\n",
       "        text-align: right;\n",
       "    }\n",
       "</style>\n",
       "<table border=\"1\" class=\"dataframe\">\n",
       "  <thead>\n",
       "    <tr style=\"text-align: right;\">\n",
       "      <th></th>\n",
       "      <th>date</th>\n",
       "      <th>id</th>\n",
       "      <th>price</th>\n",
       "      <th>bedrooms</th>\n",
       "      <th>bathrooms</th>\n",
       "      <th>m2_living</th>\n",
       "      <th>m2_lot</th>\n",
       "      <th>floors</th>\n",
       "      <th>waterfront</th>\n",
       "      <th>view</th>\n",
       "      <th>...</th>\n",
       "      <th>m2_above</th>\n",
       "      <th>m2_basement</th>\n",
       "      <th>yr_built</th>\n",
       "      <th>yr_renovated</th>\n",
       "      <th>zipcode</th>\n",
       "      <th>lat</th>\n",
       "      <th>long</th>\n",
       "      <th>m2_living15</th>\n",
       "      <th>m2_lot15</th>\n",
       "      <th>price_m2</th>\n",
       "    </tr>\n",
       "  </thead>\n",
       "  <tbody>\n",
       "    <tr>\n",
       "      <th>0</th>\n",
       "      <td>2014-10-13</td>\n",
       "      <td>7129300520</td>\n",
       "      <td>221900.0</td>\n",
       "      <td>3</td>\n",
       "      <td>1.00</td>\n",
       "      <td>109.625540</td>\n",
       "      <td>524.901950</td>\n",
       "      <td>1.0</td>\n",
       "      <td>0</td>\n",
       "      <td>0</td>\n",
       "      <td>...</td>\n",
       "      <td>109.625540</td>\n",
       "      <td>0.0000</td>\n",
       "      <td>1955</td>\n",
       "      <td>0</td>\n",
       "      <td>98178</td>\n",
       "      <td>47.5112</td>\n",
       "      <td>-122.257</td>\n",
       "      <td>124.490020</td>\n",
       "      <td>524.901950</td>\n",
       "      <td>2024.163347</td>\n",
       "    </tr>\n",
       "    <tr>\n",
       "      <th>1</th>\n",
       "      <td>2014-12-09</td>\n",
       "      <td>6414100192</td>\n",
       "      <td>538000.0</td>\n",
       "      <td>3</td>\n",
       "      <td>2.25</td>\n",
       "      <td>238.760710</td>\n",
       "      <td>672.803526</td>\n",
       "      <td>2.0</td>\n",
       "      <td>0</td>\n",
       "      <td>0</td>\n",
       "      <td>...</td>\n",
       "      <td>201.599510</td>\n",
       "      <td>37.1612</td>\n",
       "      <td>1951</td>\n",
       "      <td>1991</td>\n",
       "      <td>98125</td>\n",
       "      <td>47.7210</td>\n",
       "      <td>-122.319</td>\n",
       "      <td>157.006070</td>\n",
       "      <td>709.686017</td>\n",
       "      <td>2253.302061</td>\n",
       "    </tr>\n",
       "    <tr>\n",
       "      <th>2</th>\n",
       "      <td>2015-02-25</td>\n",
       "      <td>5631500400</td>\n",
       "      <td>180000.0</td>\n",
       "      <td>2</td>\n",
       "      <td>1.00</td>\n",
       "      <td>71.535310</td>\n",
       "      <td>929.030000</td>\n",
       "      <td>1.0</td>\n",
       "      <td>0</td>\n",
       "      <td>0</td>\n",
       "      <td>...</td>\n",
       "      <td>71.535310</td>\n",
       "      <td>0.0000</td>\n",
       "      <td>1933</td>\n",
       "      <td>0</td>\n",
       "      <td>98028</td>\n",
       "      <td>47.7379</td>\n",
       "      <td>-122.233</td>\n",
       "      <td>252.696160</td>\n",
       "      <td>748.983986</td>\n",
       "      <td>2516.239882</td>\n",
       "    </tr>\n",
       "    <tr>\n",
       "      <th>3</th>\n",
       "      <td>2015-02-18</td>\n",
       "      <td>1954400510</td>\n",
       "      <td>510000.0</td>\n",
       "      <td>3</td>\n",
       "      <td>2.00</td>\n",
       "      <td>156.077040</td>\n",
       "      <td>750.656240</td>\n",
       "      <td>1.0</td>\n",
       "      <td>0</td>\n",
       "      <td>0</td>\n",
       "      <td>...</td>\n",
       "      <td>156.077040</td>\n",
       "      <td>0.0000</td>\n",
       "      <td>1987</td>\n",
       "      <td>0</td>\n",
       "      <td>98074</td>\n",
       "      <td>47.6168</td>\n",
       "      <td>-122.045</td>\n",
       "      <td>167.225400</td>\n",
       "      <td>697.051209</td>\n",
       "      <td>3267.617069</td>\n",
       "    </tr>\n",
       "    <tr>\n",
       "      <th>4</th>\n",
       "      <td>2014-06-27</td>\n",
       "      <td>1321400060</td>\n",
       "      <td>257500.0</td>\n",
       "      <td>3</td>\n",
       "      <td>2.25</td>\n",
       "      <td>159.328645</td>\n",
       "      <td>633.505557</td>\n",
       "      <td>2.0</td>\n",
       "      <td>0</td>\n",
       "      <td>0</td>\n",
       "      <td>...</td>\n",
       "      <td>159.328645</td>\n",
       "      <td>0.0000</td>\n",
       "      <td>1995</td>\n",
       "      <td>0</td>\n",
       "      <td>98003</td>\n",
       "      <td>47.3097</td>\n",
       "      <td>-122.327</td>\n",
       "      <td>207.916914</td>\n",
       "      <td>633.505557</td>\n",
       "      <td>1616.156342</td>\n",
       "    </tr>\n",
       "  </tbody>\n",
       "</table>\n",
       "<p>5 rows × 22 columns</p>\n",
       "</div>"
      ],
      "text/plain": [
       "         date          id     price  bedrooms  bathrooms   m2_living  \\\n",
       "0  2014-10-13  7129300520  221900.0         3       1.00  109.625540   \n",
       "1  2014-12-09  6414100192  538000.0         3       2.25  238.760710   \n",
       "2  2015-02-25  5631500400  180000.0         2       1.00   71.535310   \n",
       "3  2015-02-18  1954400510  510000.0         3       2.00  156.077040   \n",
       "4  2014-06-27  1321400060  257500.0         3       2.25  159.328645   \n",
       "\n",
       "       m2_lot  floors  waterfront  view  ...    m2_above  m2_basement  \\\n",
       "0  524.901950     1.0           0     0  ...  109.625540       0.0000   \n",
       "1  672.803526     2.0           0     0  ...  201.599510      37.1612   \n",
       "2  929.030000     1.0           0     0  ...   71.535310       0.0000   \n",
       "3  750.656240     1.0           0     0  ...  156.077040       0.0000   \n",
       "4  633.505557     2.0           0     0  ...  159.328645       0.0000   \n",
       "\n",
       "   yr_built  yr_renovated  zipcode      lat     long  m2_living15    m2_lot15  \\\n",
       "0      1955             0    98178  47.5112 -122.257   124.490020  524.901950   \n",
       "1      1951          1991    98125  47.7210 -122.319   157.006070  709.686017   \n",
       "2      1933             0    98028  47.7379 -122.233   252.696160  748.983986   \n",
       "3      1987             0    98074  47.6168 -122.045   167.225400  697.051209   \n",
       "4      1995             0    98003  47.3097 -122.327   207.916914  633.505557   \n",
       "\n",
       "      price_m2  \n",
       "0  2024.163347  \n",
       "1  2253.302061  \n",
       "2  2516.239882  \n",
       "3  3267.617069  \n",
       "4  1616.156342  \n",
       "\n",
       "[5 rows x 22 columns]"
      ]
     },
     "execution_count": 17,
     "metadata": {},
     "output_type": "execute_result"
    }
   ],
   "source": [
    "df_model_filtre.head(5)"
   ]
  },
  {
   "cell_type": "code",
   "execution_count": 18,
   "metadata": {},
   "outputs": [],
   "source": [
    "X = df_model_filtre.drop(['date','price','id'], axis=1)\n",
    "y = df_model_filtre['price']\n",
    "X_train, X_test, y_train, y_test = train_test_split(X,y,test_size=0.2,random_state=420)\n",
    "\n",
    "numeric_features = list(X.select_dtypes(include=['float64','int64']).columns)\n",
    "catagorical_features = ['zipcode']\n",
    "\n",
    "numeric_transformer = Pipeline([\n",
    "    ('min_max', MinMaxScaler())\n",
    "])\n",
    "\n",
    "catagorical_transformer = OneHotEncoder(sparse=True)\n",
    "\n",
    "preprocessor = ColumnTransformer(\n",
    "    transformers=[\n",
    "        ('num', numeric_transformer, numeric_features),\n",
    "        ('cat', catagorical_transformer, catagorical_features)\n",
    "    ])\n",
    "\n",
    "regression = linear_model.LinearRegression()\n",
    "\n",
    "pipe = Pipeline([\n",
    "    ('prep',preprocessor),\n",
    "    ('reg',regression)\n",
    "                \n",
    "])"
   ]
  },
  {
   "cell_type": "code",
   "execution_count": 19,
   "metadata": {},
   "outputs": [
    {
     "name": "stderr",
     "output_type": "stream",
     "text": [
      "/home/apprenant/miniconda3/envs/machine-learning/lib/python3.10/site-packages/sklearn/preprocessing/_encoders.py:828: FutureWarning: `sparse` was renamed to `sparse_output` in version 1.2 and will be removed in 1.4. `sparse_output` is ignored unless you leave `sparse` to its default value.\n",
      "  warnings.warn(\n"
     ]
    }
   ],
   "source": [
    "trained_pipe = pipe.fit(X_train, y_train)"
   ]
  },
  {
   "cell_type": "code",
   "execution_count": 20,
   "metadata": {},
   "outputs": [],
   "source": [
    "predictions = trained_pipe.predict(X_test)"
   ]
  },
  {
   "cell_type": "code",
   "execution_count": 21,
   "metadata": {},
   "outputs": [
    {
     "data": {
      "text/plain": [
       "0.920456369131554"
      ]
     },
     "execution_count": 21,
     "metadata": {},
     "output_type": "execute_result"
    }
   ],
   "source": [
    "trained_pipe.score(X_test, y_test)"
   ]
  },
  {
   "cell_type": "code",
   "execution_count": 22,
   "metadata": {},
   "outputs": [
    {
     "data": {
      "text/plain": [
       "[<matplotlib.lines.Line2D at 0x7fe866cda920>]"
      ]
     },
     "execution_count": 22,
     "metadata": {},
     "output_type": "execute_result"
    },
    {
     "data": {
      "image/png": "[encoded data removed]",
      "text/plain": [
       "<Figure size 640x480 with 1 Axes>"
      ]
     },
     "metadata": {},
     "output_type": "display_data"
    }
   ],
   "source": [
    "plt.scatter(y_test,predictions)\n",
    "plt.plot([y_test.min(), y_test.max()], [y_test.min(), y_test.max()], 'k--')\n"
   ]
  },
  {
   "cell_type": "code",
   "execution_count": 23,
   "metadata": {},
   "outputs": [
    {
     "data": {
      "text/plain": [
       "array([185298.85394761, 753190.92599773, 317749.02710039, ...,\n",
       "       492660.24005899, 237086.36356666, 264586.3044654 ])"
      ]
     },
     "execution_count": 23,
     "metadata": {},
     "output_type": "execute_result"
    }
   ],
   "source": [
    "predictions"
   ]
  },
  {
   "cell_type": "code",
   "execution_count": 24,
   "metadata": {},
   "outputs": [
    {
     "data": {
      "text/plain": [
       "9127     209000.0\n",
       "4042     689000.0\n",
       "11468    260000.0\n",
       "1388     340000.0\n",
       "7151     306000.0\n",
       "           ...   \n",
       "14972    575000.0\n",
       "16406    490000.0\n",
       "14109    455000.0\n",
       "4446     243400.0\n",
       "15867    244950.0\n",
       "Name: price, Length: 3590, dtype: float64"
      ]
     },
     "execution_count": 24,
     "metadata": {},
     "output_type": "execute_result"
    }
   ],
   "source": [
    "y_test"
   ]
  },
  {
   "attachments": {},
   "cell_type": "markdown",
   "metadata": {},
   "source": [
    "## Modèle 3 - KNN avec valeurs extrêmes, avec valeurs qu'on ne peut pas demander à l'utilisateur"
   ]
  },
  {
   "attachments": {},
   "cell_type": "markdown",
   "metadata": {},
   "source": [
    "Ce modèle sera celui qui contient les valeurs extrêmes : moins précis mais moins restrictif. Les features sont : \n",
    "- bedrooms\n",
    "- bathrooms\n",
    "- m2_living \n",
    "- yr_renovated\n",
    "- yr-built\n",
    "- grade\n",
    "- m2_above\n",
    "- m2_living15\n",
    "- price_m2\n",
    "- view\n",
    "- m2_basement\n",
    "- waterfront\n",
    "- floors\n",
    "- m2_lot\n",
    "- m2_lot15\n",
    "- condition"
   ]
  },
  {
   "cell_type": "code",
   "execution_count": 67,
   "metadata": {},
   "outputs": [],
   "source": [
    "df_model = pd.read_csv('data_cleaned.csv')\n"
   ]
  },
  {
   "cell_type": "code",
   "execution_count": 68,
   "metadata": {},
   "outputs": [
    {
     "name": "stdout",
     "output_type": "stream",
     "text": [
      "{'metric': 'manhattan', 'n_neighbors': 9}\n"
     ]
    }
   ],
   "source": [
    "X = df_model.drop(['date','price','id','price_m2'], axis=1)\n",
    "y = df_model['price']\n",
    "X_train, X_test, y_train, y_test = train_test_split(X,y,test_size=0.2,random_state=420)\n",
    "\n",
    "numeric_features = list(X.select_dtypes(include=['float64','int64']).columns)\n",
    "catagorical_features = ['zipcode']\n",
    "\n",
    "numeric_transformer = Pipeline([\n",
    "    ('min_max', MinMaxScaler())\n",
    "])\n",
    "\n",
    "catagorical_transformer = OneHotEncoder(sparse=True)\n",
    "\n",
    "preprocessor = ColumnTransformer(\n",
    "    transformers=[\n",
    "        ('num', numeric_transformer, numeric_features),\n",
    "        ('cat', catagorical_transformer, catagorical_features)\n",
    "    ])\n",
    "\n",
    "param_grid= {'n_neighbors':np.arange(1,20),\n",
    "             'metric':['euclidean','manhattan']}\n",
    "\n",
    "grid = GridSearchCV(KNeighborsRegressor(), param_grid, cv=5)\n",
    "\n",
    "grid.fit(X_train, y_train)\n",
    "knn = grid.best_estimator_\n",
    "\n",
    "pipe = Pipeline([\n",
    "    ('prep',preprocessor),\n",
    "    ('knn',knn)\n",
    "                \n",
    "])\n",
    "\n",
    "print(grid.best_params_)"
   ]
  },
  {
   "cell_type": "code",
   "execution_count": 69,
   "metadata": {},
   "outputs": [
    {
     "name": "stderr",
     "output_type": "stream",
     "text": [
      "/home/apprenant/miniconda3/envs/machine-learning/lib/python3.10/site-packages/sklearn/preprocessing/_encoders.py:828: FutureWarning: `sparse` was renamed to `sparse_output` in version 1.2 and will be removed in 1.4. `sparse_output` is ignored unless you leave `sparse` to its default value.\n",
      "  warnings.warn(\n"
     ]
    }
   ],
   "source": [
    "trained_pipe = pipe.fit(X_train, y_train)"
   ]
  },
  {
   "cell_type": "code",
   "execution_count": 70,
   "metadata": {},
   "outputs": [],
   "source": [
    "predictions = trained_pipe.predict(X_test)"
   ]
  },
  {
   "cell_type": "code",
   "execution_count": 71,
   "metadata": {},
   "outputs": [
    {
     "data": {
      "text/plain": [
       "0.7845614122513722"
      ]
     },
     "execution_count": 71,
     "metadata": {},
     "output_type": "execute_result"
    }
   ],
   "source": [
    "trained_pipe.score(X_test, y_test)"
   ]
  },
  {
   "cell_type": "code",
   "execution_count": 30,
   "metadata": {},
   "outputs": [
    {
     "data": {
      "text/plain": [
       "[<matplotlib.lines.Line2D at 0x7fe866b70520>]"
      ]
     },
     "execution_count": 30,
     "metadata": {},
     "output_type": "execute_result"
    },
    {
     "data": {
      "image/png": "[encoded data removed]",
      "text/plain": [
       "<Figure size 640x480 with 1 Axes>"
      ]
     },
     "metadata": {},
     "output_type": "display_data"
    }
   ],
   "source": [
    "plt.scatter(y_test,predictions)\n",
    "plt.plot([y_test.min(), y_test.max()], [y_test.min(), y_test.max()], 'k--')\n"
   ]
  },
  {
   "cell_type": "code",
   "execution_count": 31,
   "metadata": {},
   "outputs": [
    {
     "data": {
      "text/plain": [
       "array([227862.5, 377337.5, 538125. , ..., 390125. , 720750. , 368375. ])"
      ]
     },
     "execution_count": 31,
     "metadata": {},
     "output_type": "execute_result"
    }
   ],
   "source": [
    "predictions"
   ]
  },
  {
   "cell_type": "code",
   "execution_count": 32,
   "metadata": {},
   "outputs": [
    {
     "data": {
      "text/plain": [
       "8878     289900.0\n",
       "14851    345000.0\n",
       "1564     610000.0\n",
       "4055     363000.0\n",
       "7526     376000.0\n",
       "           ...   \n",
       "8892     440000.0\n",
       "14761    530000.0\n",
       "14288    400000.0\n",
       "7275     693000.0\n",
       "20522    374500.0\n",
       "Name: price, Length: 4322, dtype: float64"
      ]
     },
     "execution_count": 32,
     "metadata": {},
     "output_type": "execute_result"
    }
   ],
   "source": [
    "y_test"
   ]
  },
  {
   "attachments": {},
   "cell_type": "markdown",
   "metadata": {},
   "source": [
    "## Modèle 4 - KNN sans valeur extrême, avec des variables qu'on ne peut pas demander aux utilisateurs"
   ]
  },
  {
   "attachments": {},
   "cell_type": "markdown",
   "metadata": {},
   "source": [
    "Ce modèle sera celui qui ne contient pas les valeurs extrêmes : plus précis mais plus restrictif. Les features sont : \n",
    "- bedrooms\n",
    "- bathrooms\n",
    "- m2_living \n",
    "- yr_renovated\n",
    "- yr-built\n",
    "- grade\n",
    "- m2_above\n",
    "- m2_living15\n",
    "- price_m2\n",
    "- view\n",
    "- m2_basement\n",
    "- waterfront\n",
    "- floors\n",
    "- m2_lot\n",
    "- m2_lot15\n",
    "- condition"
   ]
  },
  {
   "attachments": {},
   "cell_type": "markdown",
   "metadata": {},
   "source": [
    "Préprocessing : \n",
    "- MinMaxScaler \n",
    "- Onehotencoding\n",
    "- GridSearchCv"
   ]
  },
  {
   "cell_type": "code",
   "execution_count": 33,
   "metadata": {},
   "outputs": [],
   "source": [
    "df_model_filtre = pd.read_csv('data_cleaned2.csv')\n"
   ]
  },
  {
   "cell_type": "code",
   "execution_count": 34,
   "metadata": {},
   "outputs": [
    {
     "data": {
      "text/html": [
       "<div>\n",
       "<style scoped>\n",
       "    .dataframe tbody tr th:only-of-type {\n",
       "        vertical-align: middle;\n",
       "    }\n",
       "\n",
       "    .dataframe tbody tr th {\n",
       "        vertical-align: top;\n",
       "    }\n",
       "\n",
       "    .dataframe thead th {\n",
       "        text-align: right;\n",
       "    }\n",
       "</style>\n",
       "<table border=\"1\" class=\"dataframe\">\n",
       "  <thead>\n",
       "    <tr style=\"text-align: right;\">\n",
       "      <th></th>\n",
       "      <th>date</th>\n",
       "      <th>id</th>\n",
       "      <th>price</th>\n",
       "      <th>bedrooms</th>\n",
       "      <th>bathrooms</th>\n",
       "      <th>m2_living</th>\n",
       "      <th>m2_lot</th>\n",
       "      <th>floors</th>\n",
       "      <th>waterfront</th>\n",
       "      <th>view</th>\n",
       "      <th>...</th>\n",
       "      <th>m2_above</th>\n",
       "      <th>m2_basement</th>\n",
       "      <th>yr_built</th>\n",
       "      <th>yr_renovated</th>\n",
       "      <th>zipcode</th>\n",
       "      <th>lat</th>\n",
       "      <th>long</th>\n",
       "      <th>m2_living15</th>\n",
       "      <th>m2_lot15</th>\n",
       "      <th>price_m2</th>\n",
       "    </tr>\n",
       "  </thead>\n",
       "  <tbody>\n",
       "    <tr>\n",
       "      <th>0</th>\n",
       "      <td>2014-10-13</td>\n",
       "      <td>7129300520</td>\n",
       "      <td>221900.0</td>\n",
       "      <td>3</td>\n",
       "      <td>1.00</td>\n",
       "      <td>109.625540</td>\n",
       "      <td>524.901950</td>\n",
       "      <td>1.0</td>\n",
       "      <td>0</td>\n",
       "      <td>0</td>\n",
       "      <td>...</td>\n",
       "      <td>109.625540</td>\n",
       "      <td>0.0000</td>\n",
       "      <td>1955</td>\n",
       "      <td>0</td>\n",
       "      <td>98178</td>\n",
       "      <td>47.5112</td>\n",
       "      <td>-122.257</td>\n",
       "      <td>124.490020</td>\n",
       "      <td>524.901950</td>\n",
       "      <td>2024.163347</td>\n",
       "    </tr>\n",
       "    <tr>\n",
       "      <th>1</th>\n",
       "      <td>2014-12-09</td>\n",
       "      <td>6414100192</td>\n",
       "      <td>538000.0</td>\n",
       "      <td>3</td>\n",
       "      <td>2.25</td>\n",
       "      <td>238.760710</td>\n",
       "      <td>672.803526</td>\n",
       "      <td>2.0</td>\n",
       "      <td>0</td>\n",
       "      <td>0</td>\n",
       "      <td>...</td>\n",
       "      <td>201.599510</td>\n",
       "      <td>37.1612</td>\n",
       "      <td>1951</td>\n",
       "      <td>1991</td>\n",
       "      <td>98125</td>\n",
       "      <td>47.7210</td>\n",
       "      <td>-122.319</td>\n",
       "      <td>157.006070</td>\n",
       "      <td>709.686017</td>\n",
       "      <td>2253.302061</td>\n",
       "    </tr>\n",
       "    <tr>\n",
       "      <th>2</th>\n",
       "      <td>2015-02-25</td>\n",
       "      <td>5631500400</td>\n",
       "      <td>180000.0</td>\n",
       "      <td>2</td>\n",
       "      <td>1.00</td>\n",
       "      <td>71.535310</td>\n",
       "      <td>929.030000</td>\n",
       "      <td>1.0</td>\n",
       "      <td>0</td>\n",
       "      <td>0</td>\n",
       "      <td>...</td>\n",
       "      <td>71.535310</td>\n",
       "      <td>0.0000</td>\n",
       "      <td>1933</td>\n",
       "      <td>0</td>\n",
       "      <td>98028</td>\n",
       "      <td>47.7379</td>\n",
       "      <td>-122.233</td>\n",
       "      <td>252.696160</td>\n",
       "      <td>748.983986</td>\n",
       "      <td>2516.239882</td>\n",
       "    </tr>\n",
       "    <tr>\n",
       "      <th>3</th>\n",
       "      <td>2015-02-18</td>\n",
       "      <td>1954400510</td>\n",
       "      <td>510000.0</td>\n",
       "      <td>3</td>\n",
       "      <td>2.00</td>\n",
       "      <td>156.077040</td>\n",
       "      <td>750.656240</td>\n",
       "      <td>1.0</td>\n",
       "      <td>0</td>\n",
       "      <td>0</td>\n",
       "      <td>...</td>\n",
       "      <td>156.077040</td>\n",
       "      <td>0.0000</td>\n",
       "      <td>1987</td>\n",
       "      <td>0</td>\n",
       "      <td>98074</td>\n",
       "      <td>47.6168</td>\n",
       "      <td>-122.045</td>\n",
       "      <td>167.225400</td>\n",
       "      <td>697.051209</td>\n",
       "      <td>3267.617069</td>\n",
       "    </tr>\n",
       "    <tr>\n",
       "      <th>4</th>\n",
       "      <td>2014-06-27</td>\n",
       "      <td>1321400060</td>\n",
       "      <td>257500.0</td>\n",
       "      <td>3</td>\n",
       "      <td>2.25</td>\n",
       "      <td>159.328645</td>\n",
       "      <td>633.505557</td>\n",
       "      <td>2.0</td>\n",
       "      <td>0</td>\n",
       "      <td>0</td>\n",
       "      <td>...</td>\n",
       "      <td>159.328645</td>\n",
       "      <td>0.0000</td>\n",
       "      <td>1995</td>\n",
       "      <td>0</td>\n",
       "      <td>98003</td>\n",
       "      <td>47.3097</td>\n",
       "      <td>-122.327</td>\n",
       "      <td>207.916914</td>\n",
       "      <td>633.505557</td>\n",
       "      <td>1616.156342</td>\n",
       "    </tr>\n",
       "  </tbody>\n",
       "</table>\n",
       "<p>5 rows × 22 columns</p>\n",
       "</div>"
      ],
      "text/plain": [
       "         date          id     price  bedrooms  bathrooms   m2_living  \\\n",
       "0  2014-10-13  7129300520  221900.0         3       1.00  109.625540   \n",
       "1  2014-12-09  6414100192  538000.0         3       2.25  238.760710   \n",
       "2  2015-02-25  5631500400  180000.0         2       1.00   71.535310   \n",
       "3  2015-02-18  1954400510  510000.0         3       2.00  156.077040   \n",
       "4  2014-06-27  1321400060  257500.0         3       2.25  159.328645   \n",
       "\n",
       "       m2_lot  floors  waterfront  view  ...    m2_above  m2_basement  \\\n",
       "0  524.901950     1.0           0     0  ...  109.625540       0.0000   \n",
       "1  672.803526     2.0           0     0  ...  201.599510      37.1612   \n",
       "2  929.030000     1.0           0     0  ...   71.535310       0.0000   \n",
       "3  750.656240     1.0           0     0  ...  156.077040       0.0000   \n",
       "4  633.505557     2.0           0     0  ...  159.328645       0.0000   \n",
       "\n",
       "   yr_built  yr_renovated  zipcode      lat     long  m2_living15    m2_lot15  \\\n",
       "0      1955             0    98178  47.5112 -122.257   124.490020  524.901950   \n",
       "1      1951          1991    98125  47.7210 -122.319   157.006070  709.686017   \n",
       "2      1933             0    98028  47.7379 -122.233   252.696160  748.983986   \n",
       "3      1987             0    98074  47.6168 -122.045   167.225400  697.051209   \n",
       "4      1995             0    98003  47.3097 -122.327   207.916914  633.505557   \n",
       "\n",
       "      price_m2  \n",
       "0  2024.163347  \n",
       "1  2253.302061  \n",
       "2  2516.239882  \n",
       "3  3267.617069  \n",
       "4  1616.156342  \n",
       "\n",
       "[5 rows x 22 columns]"
      ]
     },
     "execution_count": 34,
     "metadata": {},
     "output_type": "execute_result"
    }
   ],
   "source": [
    "df_model_filtre.head(5)"
   ]
  },
  {
   "cell_type": "code",
   "execution_count": 35,
   "metadata": {},
   "outputs": [],
   "source": [
    "X = df_model_filtre.drop(['date','price','id'], axis=1)\n",
    "y = df_model_filtre['price']\n",
    "X_train, X_test, y_train, y_test = train_test_split(X,y,test_size=0.2,random_state=420)\n",
    "\n",
    "numeric_features = list(X.select_dtypes(include=['float64','int64']).columns)\n",
    "catagorical_features = ['zipcode']\n",
    "\n",
    "numeric_transformer = Pipeline([\n",
    "    ('min_max', MinMaxScaler())\n",
    "])\n",
    "\n",
    "catagorical_transformer = OneHotEncoder(sparse=True)\n",
    "\n",
    "preprocessor = ColumnTransformer(\n",
    "    transformers=[\n",
    "        ('num', numeric_transformer, numeric_features),\n",
    "        ('cat', catagorical_transformer, catagorical_features)\n",
    "    ])\n",
    "\n",
    "param_grid= {'n_neighbors':np.arange(1,20),\n",
    "             'metric':['euclidean','manhattan']}\n",
    "\n",
    "grid = GridSearchCV(KNeighborsRegressor(), param_grid, cv=5)\n",
    "\n",
    "grid.fit(X_train, y_train)\n",
    "knn = grid.best_estimator_\n",
    "\n",
    "pipe = Pipeline([\n",
    "    ('prep',preprocessor),\n",
    "    ('knn',knn)\n",
    "                \n",
    "])"
   ]
  },
  {
   "cell_type": "code",
   "execution_count": 36,
   "metadata": {},
   "outputs": [
    {
     "name": "stdout",
     "output_type": "stream",
     "text": [
      "KNeighborsRegressor(metric='manhattan', n_neighbors=6)\n"
     ]
    }
   ],
   "source": [
    "print(grid.best_estimator_)"
   ]
  },
  {
   "cell_type": "code",
   "execution_count": 37,
   "metadata": {},
   "outputs": [
    {
     "name": "stderr",
     "output_type": "stream",
     "text": [
      "/home/apprenant/miniconda3/envs/machine-learning/lib/python3.10/site-packages/sklearn/preprocessing/_encoders.py:828: FutureWarning: `sparse` was renamed to `sparse_output` in version 1.2 and will be removed in 1.4. `sparse_output` is ignored unless you leave `sparse` to its default value.\n",
      "  warnings.warn(\n"
     ]
    }
   ],
   "source": [
    "trained_pipe = pipe.fit(X_train, y_train)"
   ]
  },
  {
   "cell_type": "code",
   "execution_count": 38,
   "metadata": {},
   "outputs": [],
   "source": [
    "predictions = trained_pipe.predict(X_test)"
   ]
  },
  {
   "cell_type": "code",
   "execution_count": 39,
   "metadata": {},
   "outputs": [
    {
     "data": {
      "text/plain": [
       "0.8473360247042774"
      ]
     },
     "execution_count": 39,
     "metadata": {},
     "output_type": "execute_result"
    }
   ],
   "source": [
    "trained_pipe.score(X_test, y_test)"
   ]
  },
  {
   "cell_type": "code",
   "execution_count": 40,
   "metadata": {},
   "outputs": [
    {
     "data": {
      "text/plain": [
       "[<matplotlib.lines.Line2D at 0x7fe85d146410>]"
      ]
     },
     "execution_count": 40,
     "metadata": {},
     "output_type": "execute_result"
    },
    {
     "data": {
      "image/png": "[encoded data removed]",
      "text/plain": [
       "<Figure size 640x480 with 1 Axes>"
      ]
     },
     "metadata": {},
     "output_type": "display_data"
    }
   ],
   "source": [
    "plt.scatter(y_test,predictions)\n",
    "plt.plot([y_test.min(), y_test.max()], [y_test.min(), y_test.max()], 'k--')\n"
   ]
  },
  {
   "cell_type": "code",
   "execution_count": 41,
   "metadata": {},
   "outputs": [
    {
     "data": {
      "text/plain": [
       "array([217233.33333333, 733416.5       , 316816.66666667, ...,\n",
       "       438050.        , 226733.33333333, 275983.33333333])"
      ]
     },
     "execution_count": 41,
     "metadata": {},
     "output_type": "execute_result"
    }
   ],
   "source": [
    "predictions"
   ]
  },
  {
   "cell_type": "code",
   "execution_count": 42,
   "metadata": {},
   "outputs": [
    {
     "data": {
      "text/plain": [
       "9127     209000.0\n",
       "4042     689000.0\n",
       "11468    260000.0\n",
       "1388     340000.0\n",
       "7151     306000.0\n",
       "           ...   \n",
       "14972    575000.0\n",
       "16406    490000.0\n",
       "14109    455000.0\n",
       "4446     243400.0\n",
       "15867    244950.0\n",
       "Name: price, Length: 3590, dtype: float64"
      ]
     },
     "execution_count": 42,
     "metadata": {},
     "output_type": "execute_result"
    }
   ],
   "source": [
    "y_test"
   ]
  },
  {
   "attachments": {},
   "cell_type": "markdown",
   "metadata": {},
   "source": [
    "## Modèle 5 - Régression linéaire, avec valeurs extrêmes, uniquement variables qu'on peut demander à l'utilisateur"
   ]
  },
  {
   "attachments": {},
   "cell_type": "markdown",
   "metadata": {},
   "source": [
    "Ce modèle sera celui qui contient les valeurs extrêmes : moins précis mais moins restrictif. Les features sont : \n",
    "- les différentes surfaces (m2_living, m2_above,m2_basement,m2_lot)\n",
    "- le nombre de pièces (bedrooms,bathrooms) et d'étages (floors)\n",
    "- les années de construction, rénovation\n",
    "- les notes obtenues sur différents sujets (grade,condition,view)\n",
    "- localisation (zipcode, lat, long, waterfront)\n",
    "\n",
    "J'ai retiré les features qu'il ne paraît pas logique de demander à un propriétaire, qu'il aurait du mal à connaître."
   ]
  },
  {
   "attachments": {},
   "cell_type": "markdown",
   "metadata": {},
   "source": [
    "Preprocessing : \n",
    "- MinMaxScaler\n",
    "- PolynomialFeature\n",
    "- OneHotEncoder"
   ]
  },
  {
   "cell_type": "code",
   "execution_count": 43,
   "metadata": {},
   "outputs": [],
   "source": [
    "df_model = pd.read_csv('data_cleaned.csv')"
   ]
  },
  {
   "cell_type": "code",
   "execution_count": 44,
   "metadata": {},
   "outputs": [
    {
     "data": {
      "text/html": [
       "<div>\n",
       "<style scoped>\n",
       "    .dataframe tbody tr th:only-of-type {\n",
       "        vertical-align: middle;\n",
       "    }\n",
       "\n",
       "    .dataframe tbody tr th {\n",
       "        vertical-align: top;\n",
       "    }\n",
       "\n",
       "    .dataframe thead th {\n",
       "        text-align: right;\n",
       "    }\n",
       "</style>\n",
       "<table border=\"1\" class=\"dataframe\">\n",
       "  <thead>\n",
       "    <tr style=\"text-align: right;\">\n",
       "      <th></th>\n",
       "      <th>date</th>\n",
       "      <th>id</th>\n",
       "      <th>price</th>\n",
       "      <th>bedrooms</th>\n",
       "      <th>bathrooms</th>\n",
       "      <th>m2_living</th>\n",
       "      <th>m2_lot</th>\n",
       "      <th>floors</th>\n",
       "      <th>waterfront</th>\n",
       "      <th>view</th>\n",
       "      <th>...</th>\n",
       "      <th>m2_above</th>\n",
       "      <th>m2_basement</th>\n",
       "      <th>yr_built</th>\n",
       "      <th>yr_renovated</th>\n",
       "      <th>zipcode</th>\n",
       "      <th>lat</th>\n",
       "      <th>long</th>\n",
       "      <th>m2_living15</th>\n",
       "      <th>m2_lot15</th>\n",
       "      <th>price_m2</th>\n",
       "    </tr>\n",
       "  </thead>\n",
       "  <tbody>\n",
       "    <tr>\n",
       "      <th>0</th>\n",
       "      <td>2014-10-13</td>\n",
       "      <td>7129300520</td>\n",
       "      <td>221900.0</td>\n",
       "      <td>3</td>\n",
       "      <td>1.00</td>\n",
       "      <td>109.62554</td>\n",
       "      <td>524.901950</td>\n",
       "      <td>1.0</td>\n",
       "      <td>0</td>\n",
       "      <td>0</td>\n",
       "      <td>...</td>\n",
       "      <td>109.62554</td>\n",
       "      <td>0.00000</td>\n",
       "      <td>1955</td>\n",
       "      <td>0</td>\n",
       "      <td>98178</td>\n",
       "      <td>47.5112</td>\n",
       "      <td>-122.257</td>\n",
       "      <td>124.49002</td>\n",
       "      <td>524.901950</td>\n",
       "      <td>2024.163347</td>\n",
       "    </tr>\n",
       "    <tr>\n",
       "      <th>1</th>\n",
       "      <td>2014-12-09</td>\n",
       "      <td>6414100192</td>\n",
       "      <td>538000.0</td>\n",
       "      <td>3</td>\n",
       "      <td>2.25</td>\n",
       "      <td>238.76071</td>\n",
       "      <td>672.803526</td>\n",
       "      <td>2.0</td>\n",
       "      <td>0</td>\n",
       "      <td>0</td>\n",
       "      <td>...</td>\n",
       "      <td>201.59951</td>\n",
       "      <td>37.16120</td>\n",
       "      <td>1951</td>\n",
       "      <td>1991</td>\n",
       "      <td>98125</td>\n",
       "      <td>47.7210</td>\n",
       "      <td>-122.319</td>\n",
       "      <td>157.00607</td>\n",
       "      <td>709.686017</td>\n",
       "      <td>2253.302061</td>\n",
       "    </tr>\n",
       "    <tr>\n",
       "      <th>2</th>\n",
       "      <td>2015-02-25</td>\n",
       "      <td>5631500400</td>\n",
       "      <td>180000.0</td>\n",
       "      <td>2</td>\n",
       "      <td>1.00</td>\n",
       "      <td>71.53531</td>\n",
       "      <td>929.030000</td>\n",
       "      <td>1.0</td>\n",
       "      <td>0</td>\n",
       "      <td>0</td>\n",
       "      <td>...</td>\n",
       "      <td>71.53531</td>\n",
       "      <td>0.00000</td>\n",
       "      <td>1933</td>\n",
       "      <td>0</td>\n",
       "      <td>98028</td>\n",
       "      <td>47.7379</td>\n",
       "      <td>-122.233</td>\n",
       "      <td>252.69616</td>\n",
       "      <td>748.983986</td>\n",
       "      <td>2516.239882</td>\n",
       "    </tr>\n",
       "    <tr>\n",
       "      <th>3</th>\n",
       "      <td>2014-12-09</td>\n",
       "      <td>2487200875</td>\n",
       "      <td>604000.0</td>\n",
       "      <td>4</td>\n",
       "      <td>3.00</td>\n",
       "      <td>182.08988</td>\n",
       "      <td>464.515000</td>\n",
       "      <td>1.0</td>\n",
       "      <td>0</td>\n",
       "      <td>0</td>\n",
       "      <td>...</td>\n",
       "      <td>97.54815</td>\n",
       "      <td>84.54173</td>\n",
       "      <td>1965</td>\n",
       "      <td>0</td>\n",
       "      <td>98136</td>\n",
       "      <td>47.5208</td>\n",
       "      <td>-122.393</td>\n",
       "      <td>126.34808</td>\n",
       "      <td>464.515000</td>\n",
       "      <td>3317.043210</td>\n",
       "    </tr>\n",
       "    <tr>\n",
       "      <th>4</th>\n",
       "      <td>2015-02-18</td>\n",
       "      <td>1954400510</td>\n",
       "      <td>510000.0</td>\n",
       "      <td>3</td>\n",
       "      <td>2.00</td>\n",
       "      <td>156.07704</td>\n",
       "      <td>750.656240</td>\n",
       "      <td>1.0</td>\n",
       "      <td>0</td>\n",
       "      <td>0</td>\n",
       "      <td>...</td>\n",
       "      <td>156.07704</td>\n",
       "      <td>0.00000</td>\n",
       "      <td>1987</td>\n",
       "      <td>0</td>\n",
       "      <td>98074</td>\n",
       "      <td>47.6168</td>\n",
       "      <td>-122.045</td>\n",
       "      <td>167.22540</td>\n",
       "      <td>697.051209</td>\n",
       "      <td>3267.617069</td>\n",
       "    </tr>\n",
       "  </tbody>\n",
       "</table>\n",
       "<p>5 rows × 22 columns</p>\n",
       "</div>"
      ],
      "text/plain": [
       "         date          id     price  bedrooms  bathrooms  m2_living  \\\n",
       "0  2014-10-13  7129300520  221900.0         3       1.00  109.62554   \n",
       "1  2014-12-09  6414100192  538000.0         3       2.25  238.76071   \n",
       "2  2015-02-25  5631500400  180000.0         2       1.00   71.53531   \n",
       "3  2014-12-09  2487200875  604000.0         4       3.00  182.08988   \n",
       "4  2015-02-18  1954400510  510000.0         3       2.00  156.07704   \n",
       "\n",
       "       m2_lot  floors  waterfront  view  ...   m2_above  m2_basement  \\\n",
       "0  524.901950     1.0           0     0  ...  109.62554      0.00000   \n",
       "1  672.803526     2.0           0     0  ...  201.59951     37.16120   \n",
       "2  929.030000     1.0           0     0  ...   71.53531      0.00000   \n",
       "3  464.515000     1.0           0     0  ...   97.54815     84.54173   \n",
       "4  750.656240     1.0           0     0  ...  156.07704      0.00000   \n",
       "\n",
       "   yr_built  yr_renovated  zipcode      lat     long  m2_living15    m2_lot15  \\\n",
       "0      1955             0    98178  47.5112 -122.257    124.49002  524.901950   \n",
       "1      1951          1991    98125  47.7210 -122.319    157.00607  709.686017   \n",
       "2      1933             0    98028  47.7379 -122.233    252.69616  748.983986   \n",
       "3      1965             0    98136  47.5208 -122.393    126.34808  464.515000   \n",
       "4      1987             0    98074  47.6168 -122.045    167.22540  697.051209   \n",
       "\n",
       "      price_m2  \n",
       "0  2024.163347  \n",
       "1  2253.302061  \n",
       "2  2516.239882  \n",
       "3  3317.043210  \n",
       "4  3267.617069  \n",
       "\n",
       "[5 rows x 22 columns]"
      ]
     },
     "execution_count": 44,
     "metadata": {},
     "output_type": "execute_result"
    }
   ],
   "source": [
    "df_model.head(5)"
   ]
  },
  {
   "cell_type": "code",
   "execution_count": 45,
   "metadata": {},
   "outputs": [],
   "source": [
    "X = df_model[['m2_living','grade','view','m2_above','bathrooms','zipcode','m2_basement','bedrooms','waterfront','floors','yr_renovated','m2_lot','yr_built','condition']]\n",
    "y = df_model['price']\n",
    "X_train, X_test, y_train, y_test = train_test_split(X,y,test_size=0.2,random_state=420)\n",
    "\n",
    "numeric_features = list(X.drop(['view'],axis=1).select_dtypes(include=['float64','int64']).columns)\n",
    "catagorical_features = ['zipcode','view']\n",
    "\n",
    "numeric_transformer = Pipeline([\n",
    "    ('poly', PolynomialFeatures(degree=2, include_bias=False)),\n",
    "    ('min_max', MinMaxScaler())\n",
    "])\n",
    "\n",
    "catagorical_transformer = OneHotEncoder(sparse=True)\n",
    "\n",
    "preprocessor = ColumnTransformer(\n",
    "    transformers=[\n",
    "        ('num', numeric_transformer, numeric_features),\n",
    "        ('cat', catagorical_transformer, catagorical_features)\n",
    "    ])\n",
    "\n",
    "regression = linear_model.LinearRegression()\n",
    "\n",
    "pipe = Pipeline([\n",
    "    ('prep',preprocessor),\n",
    "    ('reg',regression)\n",
    "                \n",
    "])"
   ]
  },
  {
   "cell_type": "code",
   "execution_count": 46,
   "metadata": {},
   "outputs": [
    {
     "data": {
      "text/html": [
       "<div>\n",
       "<style scoped>\n",
       "    .dataframe tbody tr th:only-of-type {\n",
       "        vertical-align: middle;\n",
       "    }\n",
       "\n",
       "    .dataframe tbody tr th {\n",
       "        vertical-align: top;\n",
       "    }\n",
       "\n",
       "    .dataframe thead th {\n",
       "        text-align: right;\n",
       "    }\n",
       "</style>\n",
       "<table border=\"1\" class=\"dataframe\">\n",
       "  <thead>\n",
       "    <tr style=\"text-align: right;\">\n",
       "      <th></th>\n",
       "      <th>m2_living</th>\n",
       "      <th>grade</th>\n",
       "      <th>view</th>\n",
       "      <th>m2_above</th>\n",
       "      <th>bathrooms</th>\n",
       "      <th>zipcode</th>\n",
       "      <th>m2_basement</th>\n",
       "      <th>bedrooms</th>\n",
       "      <th>waterfront</th>\n",
       "      <th>floors</th>\n",
       "      <th>yr_renovated</th>\n",
       "      <th>m2_lot</th>\n",
       "      <th>yr_built</th>\n",
       "      <th>condition</th>\n",
       "    </tr>\n",
       "  </thead>\n",
       "  <tbody>\n",
       "    <tr>\n",
       "      <th>20866</th>\n",
       "      <td>153.28995</td>\n",
       "      <td>8</td>\n",
       "      <td>0</td>\n",
       "      <td>153.28995</td>\n",
       "      <td>2.50</td>\n",
       "      <td>98133</td>\n",
       "      <td>0.0000</td>\n",
       "      <td>3</td>\n",
       "      <td>0</td>\n",
       "      <td>3.0</td>\n",
       "      <td>0</td>\n",
       "      <td>204.479503</td>\n",
       "      <td>2007</td>\n",
       "      <td>3</td>\n",
       "    </tr>\n",
       "    <tr>\n",
       "      <th>978</th>\n",
       "      <td>118.91584</td>\n",
       "      <td>7</td>\n",
       "      <td>0</td>\n",
       "      <td>118.91584</td>\n",
       "      <td>1.00</td>\n",
       "      <td>98003</td>\n",
       "      <td>0.0000</td>\n",
       "      <td>3</td>\n",
       "      <td>0</td>\n",
       "      <td>1.0</td>\n",
       "      <td>0</td>\n",
       "      <td>809.370936</td>\n",
       "      <td>1956</td>\n",
       "      <td>4</td>\n",
       "    </tr>\n",
       "    <tr>\n",
       "      <th>14161</th>\n",
       "      <td>152.36092</td>\n",
       "      <td>7</td>\n",
       "      <td>0</td>\n",
       "      <td>152.36092</td>\n",
       "      <td>2.00</td>\n",
       "      <td>98042</td>\n",
       "      <td>0.0000</td>\n",
       "      <td>3</td>\n",
       "      <td>0</td>\n",
       "      <td>1.0</td>\n",
       "      <td>0</td>\n",
       "      <td>524.901950</td>\n",
       "      <td>2003</td>\n",
       "      <td>3</td>\n",
       "    </tr>\n",
       "    <tr>\n",
       "      <th>18477</th>\n",
       "      <td>132.85129</td>\n",
       "      <td>8</td>\n",
       "      <td>0</td>\n",
       "      <td>132.85129</td>\n",
       "      <td>1.75</td>\n",
       "      <td>98024</td>\n",
       "      <td>0.0000</td>\n",
       "      <td>3</td>\n",
       "      <td>0</td>\n",
       "      <td>2.0</td>\n",
       "      <td>0</td>\n",
       "      <td>4982.202084</td>\n",
       "      <td>1985</td>\n",
       "      <td>3</td>\n",
       "    </tr>\n",
       "    <tr>\n",
       "      <th>3478</th>\n",
       "      <td>163.50928</td>\n",
       "      <td>7</td>\n",
       "      <td>0</td>\n",
       "      <td>89.18688</td>\n",
       "      <td>2.00</td>\n",
       "      <td>98199</td>\n",
       "      <td>74.3224</td>\n",
       "      <td>3</td>\n",
       "      <td>0</td>\n",
       "      <td>1.0</td>\n",
       "      <td>0</td>\n",
       "      <td>464.515000</td>\n",
       "      <td>1920</td>\n",
       "      <td>5</td>\n",
       "    </tr>\n",
       "  </tbody>\n",
       "</table>\n",
       "</div>"
      ],
      "text/plain": [
       "       m2_living  grade  view   m2_above  bathrooms  zipcode  m2_basement  \\\n",
       "20866  153.28995      8     0  153.28995       2.50    98133       0.0000   \n",
       "978    118.91584      7     0  118.91584       1.00    98003       0.0000   \n",
       "14161  152.36092      7     0  152.36092       2.00    98042       0.0000   \n",
       "18477  132.85129      8     0  132.85129       1.75    98024       0.0000   \n",
       "3478   163.50928      7     0   89.18688       2.00    98199      74.3224   \n",
       "\n",
       "       bedrooms  waterfront  floors  yr_renovated       m2_lot  yr_built  \\\n",
       "20866         3           0     3.0             0   204.479503      2007   \n",
       "978           3           0     1.0             0   809.370936      1956   \n",
       "14161         3           0     1.0             0   524.901950      2003   \n",
       "18477         3           0     2.0             0  4982.202084      1985   \n",
       "3478          3           0     1.0             0   464.515000      1920   \n",
       "\n",
       "       condition  \n",
       "20866          3  \n",
       "978            4  \n",
       "14161          3  \n",
       "18477          3  \n",
       "3478           5  "
      ]
     },
     "execution_count": 46,
     "metadata": {},
     "output_type": "execute_result"
    }
   ],
   "source": [
    "X_train.head()"
   ]
  },
  {
   "cell_type": "code",
   "execution_count": 47,
   "metadata": {},
   "outputs": [
    {
     "name": "stderr",
     "output_type": "stream",
     "text": [
      "/home/apprenant/miniconda3/envs/machine-learning/lib/python3.10/site-packages/sklearn/preprocessing/_encoders.py:828: FutureWarning: `sparse` was renamed to `sparse_output` in version 1.2 and will be removed in 1.4. `sparse_output` is ignored unless you leave `sparse` to its default value.\n",
      "  warnings.warn(\n"
     ]
    }
   ],
   "source": [
    "trained_pipe = pipe.fit(X_train, y_train)"
   ]
  },
  {
   "cell_type": "code",
   "execution_count": 48,
   "metadata": {},
   "outputs": [],
   "source": [
    "predictions = trained_pipe.predict(X_test)"
   ]
  },
  {
   "cell_type": "code",
   "execution_count": 49,
   "metadata": {},
   "outputs": [
    {
     "data": {
      "text/plain": [
       "0.8815547754236779"
      ]
     },
     "execution_count": 49,
     "metadata": {},
     "output_type": "execute_result"
    }
   ],
   "source": [
    "trained_pipe.score(X_test, y_test)"
   ]
  },
  {
   "cell_type": "code",
   "execution_count": 50,
   "metadata": {},
   "outputs": [
    {
     "data": {
      "text/plain": [
       "[<matplotlib.lines.Line2D at 0x7fe85d1c3880>]"
      ]
     },
     "execution_count": 50,
     "metadata": {},
     "output_type": "execute_result"
    },
    {
     "data": {
      "image/png": "[encoded data removed]",
      "text/plain": [
       "<Figure size 640x480 with 1 Axes>"
      ]
     },
     "metadata": {},
     "output_type": "display_data"
    }
   ],
   "source": [
    "plt.scatter(y_test,predictions)\n",
    "plt.plot([y_test.min(), y_test.max()], [y_test.min(), y_test.max()], 'k--')\n"
   ]
  },
  {
   "cell_type": "code",
   "execution_count": 51,
   "metadata": {},
   "outputs": [
    {
     "data": {
      "text/plain": [
       "array([282256., 313976., 505784., ..., 373712., 676864., 477688.])"
      ]
     },
     "execution_count": 51,
     "metadata": {},
     "output_type": "execute_result"
    }
   ],
   "source": [
    "predictions"
   ]
  },
  {
   "cell_type": "code",
   "execution_count": 52,
   "metadata": {},
   "outputs": [
    {
     "data": {
      "text/plain": [
       "8878     289900.0\n",
       "14851    345000.0\n",
       "1564     610000.0\n",
       "4055     363000.0\n",
       "7526     376000.0\n",
       "           ...   \n",
       "8892     440000.0\n",
       "14761    530000.0\n",
       "14288    400000.0\n",
       "7275     693000.0\n",
       "20522    374500.0\n",
       "Name: price, Length: 4322, dtype: float64"
      ]
     },
     "execution_count": 52,
     "metadata": {},
     "output_type": "execute_result"
    }
   ],
   "source": [
    "y_test"
   ]
  },
  {
   "attachments": {},
   "cell_type": "markdown",
   "metadata": {},
   "source": [
    "## Modèle  - Régression linéaire, sans valeurs extrêmes, uniquement variables qu'on peut demander à l'utilisateur"
   ]
  },
  {
   "attachments": {},
   "cell_type": "markdown",
   "metadata": {},
   "source": [
    "Ce modèle sera celui qui ne contient pas les valeurs extrêmes : plus précis mais plus restrictif. On prend ici en compte les zipcode et non latitude/longitude. Les features sont : \n",
    "- les différentes surfaces (m2_living, m2_above,m2_basement,m2_lot)\n",
    "- le nombre de pièces (bedrooms,bathrooms) et d'étages (floors)\n",
    "- les années de construction, rénovation\n",
    "- les notes obtenues sur différents sujets (grade,condition,view)\n",
    "- localisation (zipcode, waterfront)\n",
    "\n",
    "J'ai retiré les features qu'il ne paraît pas logique de demander à un propriétaire, qu'il aurait du mal à connaître."
   ]
  },
  {
   "cell_type": "markdown",
   "metadata": {},
   "source": [
    "Preprocessing : \n",
    "- MinMaxScaler\n",
    "- PolynomialFeature\n",
    "- OneHotEncoder"
   ]
  },
  {
   "cell_type": "code",
   "execution_count": 53,
   "metadata": {},
   "outputs": [],
   "source": [
    "df_model_filtre = pd.read_csv('data_cleaned2.csv')"
   ]
  },
  {
   "cell_type": "code",
   "execution_count": 54,
   "metadata": {},
   "outputs": [
    {
     "data": {
      "text/html": [
       "<div>\n",
       "<style scoped>\n",
       "    .dataframe tbody tr th:only-of-type {\n",
       "        vertical-align: middle;\n",
       "    }\n",
       "\n",
       "    .dataframe tbody tr th {\n",
       "        vertical-align: top;\n",
       "    }\n",
       "\n",
       "    .dataframe thead th {\n",
       "        text-align: right;\n",
       "    }\n",
       "</style>\n",
       "<table border=\"1\" class=\"dataframe\">\n",
       "  <thead>\n",
       "    <tr style=\"text-align: right;\">\n",
       "      <th></th>\n",
       "      <th>date</th>\n",
       "      <th>id</th>\n",
       "      <th>price</th>\n",
       "      <th>bedrooms</th>\n",
       "      <th>bathrooms</th>\n",
       "      <th>m2_living</th>\n",
       "      <th>m2_lot</th>\n",
       "      <th>floors</th>\n",
       "      <th>waterfront</th>\n",
       "      <th>view</th>\n",
       "      <th>...</th>\n",
       "      <th>m2_above</th>\n",
       "      <th>m2_basement</th>\n",
       "      <th>yr_built</th>\n",
       "      <th>yr_renovated</th>\n",
       "      <th>zipcode</th>\n",
       "      <th>lat</th>\n",
       "      <th>long</th>\n",
       "      <th>m2_living15</th>\n",
       "      <th>m2_lot15</th>\n",
       "      <th>price_m2</th>\n",
       "    </tr>\n",
       "  </thead>\n",
       "  <tbody>\n",
       "    <tr>\n",
       "      <th>0</th>\n",
       "      <td>2014-10-13</td>\n",
       "      <td>7129300520</td>\n",
       "      <td>221900.0</td>\n",
       "      <td>3</td>\n",
       "      <td>1.00</td>\n",
       "      <td>109.625540</td>\n",
       "      <td>524.901950</td>\n",
       "      <td>1.0</td>\n",
       "      <td>0</td>\n",
       "      <td>0</td>\n",
       "      <td>...</td>\n",
       "      <td>109.625540</td>\n",
       "      <td>0.0000</td>\n",
       "      <td>1955</td>\n",
       "      <td>0</td>\n",
       "      <td>98178</td>\n",
       "      <td>47.5112</td>\n",
       "      <td>-122.257</td>\n",
       "      <td>124.490020</td>\n",
       "      <td>524.901950</td>\n",
       "      <td>2024.163347</td>\n",
       "    </tr>\n",
       "    <tr>\n",
       "      <th>1</th>\n",
       "      <td>2014-12-09</td>\n",
       "      <td>6414100192</td>\n",
       "      <td>538000.0</td>\n",
       "      <td>3</td>\n",
       "      <td>2.25</td>\n",
       "      <td>238.760710</td>\n",
       "      <td>672.803526</td>\n",
       "      <td>2.0</td>\n",
       "      <td>0</td>\n",
       "      <td>0</td>\n",
       "      <td>...</td>\n",
       "      <td>201.599510</td>\n",
       "      <td>37.1612</td>\n",
       "      <td>1951</td>\n",
       "      <td>1991</td>\n",
       "      <td>98125</td>\n",
       "      <td>47.7210</td>\n",
       "      <td>-122.319</td>\n",
       "      <td>157.006070</td>\n",
       "      <td>709.686017</td>\n",
       "      <td>2253.302061</td>\n",
       "    </tr>\n",
       "    <tr>\n",
       "      <th>2</th>\n",
       "      <td>2015-02-25</td>\n",
       "      <td>5631500400</td>\n",
       "      <td>180000.0</td>\n",
       "      <td>2</td>\n",
       "      <td>1.00</td>\n",
       "      <td>71.535310</td>\n",
       "      <td>929.030000</td>\n",
       "      <td>1.0</td>\n",
       "      <td>0</td>\n",
       "      <td>0</td>\n",
       "      <td>...</td>\n",
       "      <td>71.535310</td>\n",
       "      <td>0.0000</td>\n",
       "      <td>1933</td>\n",
       "      <td>0</td>\n",
       "      <td>98028</td>\n",
       "      <td>47.7379</td>\n",
       "      <td>-122.233</td>\n",
       "      <td>252.696160</td>\n",
       "      <td>748.983986</td>\n",
       "      <td>2516.239882</td>\n",
       "    </tr>\n",
       "    <tr>\n",
       "      <th>3</th>\n",
       "      <td>2015-02-18</td>\n",
       "      <td>1954400510</td>\n",
       "      <td>510000.0</td>\n",
       "      <td>3</td>\n",
       "      <td>2.00</td>\n",
       "      <td>156.077040</td>\n",
       "      <td>750.656240</td>\n",
       "      <td>1.0</td>\n",
       "      <td>0</td>\n",
       "      <td>0</td>\n",
       "      <td>...</td>\n",
       "      <td>156.077040</td>\n",
       "      <td>0.0000</td>\n",
       "      <td>1987</td>\n",
       "      <td>0</td>\n",
       "      <td>98074</td>\n",
       "      <td>47.6168</td>\n",
       "      <td>-122.045</td>\n",
       "      <td>167.225400</td>\n",
       "      <td>697.051209</td>\n",
       "      <td>3267.617069</td>\n",
       "    </tr>\n",
       "    <tr>\n",
       "      <th>4</th>\n",
       "      <td>2014-06-27</td>\n",
       "      <td>1321400060</td>\n",
       "      <td>257500.0</td>\n",
       "      <td>3</td>\n",
       "      <td>2.25</td>\n",
       "      <td>159.328645</td>\n",
       "      <td>633.505557</td>\n",
       "      <td>2.0</td>\n",
       "      <td>0</td>\n",
       "      <td>0</td>\n",
       "      <td>...</td>\n",
       "      <td>159.328645</td>\n",
       "      <td>0.0000</td>\n",
       "      <td>1995</td>\n",
       "      <td>0</td>\n",
       "      <td>98003</td>\n",
       "      <td>47.3097</td>\n",
       "      <td>-122.327</td>\n",
       "      <td>207.916914</td>\n",
       "      <td>633.505557</td>\n",
       "      <td>1616.156342</td>\n",
       "    </tr>\n",
       "  </tbody>\n",
       "</table>\n",
       "<p>5 rows × 22 columns</p>\n",
       "</div>"
      ],
      "text/plain": [
       "         date          id     price  bedrooms  bathrooms   m2_living  \\\n",
       "0  2014-10-13  7129300520  221900.0         3       1.00  109.625540   \n",
       "1  2014-12-09  6414100192  538000.0         3       2.25  238.760710   \n",
       "2  2015-02-25  5631500400  180000.0         2       1.00   71.535310   \n",
       "3  2015-02-18  1954400510  510000.0         3       2.00  156.077040   \n",
       "4  2014-06-27  1321400060  257500.0         3       2.25  159.328645   \n",
       "\n",
       "       m2_lot  floors  waterfront  view  ...    m2_above  m2_basement  \\\n",
       "0  524.901950     1.0           0     0  ...  109.625540       0.0000   \n",
       "1  672.803526     2.0           0     0  ...  201.599510      37.1612   \n",
       "2  929.030000     1.0           0     0  ...   71.535310       0.0000   \n",
       "3  750.656240     1.0           0     0  ...  156.077040       0.0000   \n",
       "4  633.505557     2.0           0     0  ...  159.328645       0.0000   \n",
       "\n",
       "   yr_built  yr_renovated  zipcode      lat     long  m2_living15    m2_lot15  \\\n",
       "0      1955             0    98178  47.5112 -122.257   124.490020  524.901950   \n",
       "1      1951          1991    98125  47.7210 -122.319   157.006070  709.686017   \n",
       "2      1933             0    98028  47.7379 -122.233   252.696160  748.983986   \n",
       "3      1987             0    98074  47.6168 -122.045   167.225400  697.051209   \n",
       "4      1995             0    98003  47.3097 -122.327   207.916914  633.505557   \n",
       "\n",
       "      price_m2  \n",
       "0  2024.163347  \n",
       "1  2253.302061  \n",
       "2  2516.239882  \n",
       "3  3267.617069  \n",
       "4  1616.156342  \n",
       "\n",
       "[5 rows x 22 columns]"
      ]
     },
     "execution_count": 54,
     "metadata": {},
     "output_type": "execute_result"
    }
   ],
   "source": [
    "df_model_filtre.head(5)"
   ]
  },
  {
   "cell_type": "code",
   "execution_count": 55,
   "metadata": {},
   "outputs": [],
   "source": [
    "X = df_model_filtre[['m2_living','grade','view','m2_above','bathrooms','zipcode','m2_basement','bedrooms','waterfront','floors','yr_renovated','m2_lot','yr_built','condition']]\n",
    "y = df_model_filtre['price']\n",
    "X_train, X_test, y_train, y_test = train_test_split(X,y,test_size=0.2,random_state=420)\n",
    "\n",
    "numeric_features = list(X.select_dtypes(include=['float64','int64']).columns)\n",
    "catagorical_features = ['zipcode']\n",
    "\n",
    "numeric_transformer = Pipeline([\n",
    "    ('poly', PolynomialFeatures(degree=2, include_bias=False)),\n",
    "    ('min_max', MinMaxScaler())\n",
    "])\n",
    "\n",
    "catagorical_transformer = OneHotEncoder(sparse=True)\n",
    "\n",
    "preprocessor = ColumnTransformer(\n",
    "    transformers=[\n",
    "        ('num', numeric_transformer, numeric_features),\n",
    "        ('cat', catagorical_transformer, catagorical_features)\n",
    "    ])\n",
    "\n",
    "regression = linear_model.LinearRegression()\n",
    "\n",
    "pipe = Pipeline([\n",
    "    ('prep',preprocessor),\n",
    "    ('reg',regression)\n",
    "                \n",
    "])"
   ]
  },
  {
   "cell_type": "code",
   "execution_count": 56,
   "metadata": {},
   "outputs": [
    {
     "name": "stderr",
     "output_type": "stream",
     "text": [
      "/home/apprenant/miniconda3/envs/machine-learning/lib/python3.10/site-packages/sklearn/preprocessing/_encoders.py:828: FutureWarning: `sparse` was renamed to `sparse_output` in version 1.2 and will be removed in 1.4. `sparse_output` is ignored unless you leave `sparse` to its default value.\n",
      "  warnings.warn(\n"
     ]
    }
   ],
   "source": [
    "trained_pipe = pipe.fit(X_train, y_train)"
   ]
  },
  {
   "cell_type": "code",
   "execution_count": 57,
   "metadata": {},
   "outputs": [],
   "source": [
    "predictions = trained_pipe.predict(X_test)"
   ]
  },
  {
   "cell_type": "code",
   "execution_count": 58,
   "metadata": {},
   "outputs": [
    {
     "data": {
      "text/plain": [
       "0.8287499492739231"
      ]
     },
     "execution_count": 58,
     "metadata": {},
     "output_type": "execute_result"
    }
   ],
   "source": [
    "trained_pipe.score(X_test, y_test)"
   ]
  },
  {
   "cell_type": "code",
   "execution_count": 59,
   "metadata": {},
   "outputs": [
    {
     "data": {
      "text/plain": [
       "[<matplotlib.lines.Line2D at 0x7fe85d05b670>]"
      ]
     },
     "execution_count": 59,
     "metadata": {},
     "output_type": "execute_result"
    },
    {
     "data": {
      "image/png": "[encoded data removed]",
      "text/plain": [
       "<Figure size 640x480 with 1 Axes>"
      ]
     },
     "metadata": {},
     "output_type": "display_data"
    }
   ],
   "source": [
    "plt.scatter(y_test,predictions)\n",
    "plt.plot([y_test.min(), y_test.max()], [y_test.min(), y_test.max()], 'k--')\n"
   ]
  },
  {
   "attachments": {},
   "cell_type": "markdown",
   "metadata": {},
   "source": [
    "## Modèle 6 - KNN, avec valeurs extrêmes, uniquement variables qu'on peut demander à l'utilisateur"
   ]
  },
  {
   "cell_type": "markdown",
   "metadata": {},
   "source": [
    "Ce modèle sera celui qui contient les valeurs extrêmes : moins précis mais moins restrictif. On prend ici en compte les zipcode et non latitude/longitude. Les features sont : \n",
    "- bedrooms\n",
    "- bathrooms\n",
    "- m2_living \n",
    "- yr_renovated\n",
    "- yr-built\n",
    "- grade\n",
    "- m2_above\n",
    "- view\n",
    "- m2_basement\n",
    "- waterfront\n",
    "- floors\n",
    "- m2_lot\n",
    "- condition\n",
    "- zipcode\n",
    "\n",
    "J'ai retiré les features qu'il ne paraît pas logique de demander à un propriétaire, qu'il aurait du mal à connaître."
   ]
  },
  {
   "cell_type": "markdown",
   "metadata": {},
   "source": [
    "Preprocessing : \n",
    "- MinMaxScaler\n",
    "- PolynomialFeature\n",
    "- OneHotEncoder"
   ]
  },
  {
   "cell_type": "code",
   "execution_count": 60,
   "metadata": {},
   "outputs": [],
   "source": [
    "df_model = pd.read_csv('data_cleaned.csv')\n"
   ]
  },
  {
   "cell_type": "code",
   "execution_count": 61,
   "metadata": {},
   "outputs": [
    {
     "data": {
      "text/html": [
       "<div>\n",
       "<style scoped>\n",
       "    .dataframe tbody tr th:only-of-type {\n",
       "        vertical-align: middle;\n",
       "    }\n",
       "\n",
       "    .dataframe tbody tr th {\n",
       "        vertical-align: top;\n",
       "    }\n",
       "\n",
       "    .dataframe thead th {\n",
       "        text-align: right;\n",
       "    }\n",
       "</style>\n",
       "<table border=\"1\" class=\"dataframe\">\n",
       "  <thead>\n",
       "    <tr style=\"text-align: right;\">\n",
       "      <th></th>\n",
       "      <th>date</th>\n",
       "      <th>id</th>\n",
       "      <th>price</th>\n",
       "      <th>bedrooms</th>\n",
       "      <th>bathrooms</th>\n",
       "      <th>m2_living</th>\n",
       "      <th>m2_lot</th>\n",
       "      <th>floors</th>\n",
       "      <th>waterfront</th>\n",
       "      <th>view</th>\n",
       "      <th>...</th>\n",
       "      <th>m2_above</th>\n",
       "      <th>m2_basement</th>\n",
       "      <th>yr_built</th>\n",
       "      <th>yr_renovated</th>\n",
       "      <th>zipcode</th>\n",
       "      <th>lat</th>\n",
       "      <th>long</th>\n",
       "      <th>m2_living15</th>\n",
       "      <th>m2_lot15</th>\n",
       "      <th>price_m2</th>\n",
       "    </tr>\n",
       "  </thead>\n",
       "  <tbody>\n",
       "    <tr>\n",
       "      <th>0</th>\n",
       "      <td>2014-10-13</td>\n",
       "      <td>7129300520</td>\n",
       "      <td>221900.0</td>\n",
       "      <td>3</td>\n",
       "      <td>1.00</td>\n",
       "      <td>109.62554</td>\n",
       "      <td>524.901950</td>\n",
       "      <td>1.0</td>\n",
       "      <td>0</td>\n",
       "      <td>0</td>\n",
       "      <td>...</td>\n",
       "      <td>109.62554</td>\n",
       "      <td>0.00000</td>\n",
       "      <td>1955</td>\n",
       "      <td>0</td>\n",
       "      <td>98178</td>\n",
       "      <td>47.5112</td>\n",
       "      <td>-122.257</td>\n",
       "      <td>124.49002</td>\n",
       "      <td>524.901950</td>\n",
       "      <td>2024.163347</td>\n",
       "    </tr>\n",
       "    <tr>\n",
       "      <th>1</th>\n",
       "      <td>2014-12-09</td>\n",
       "      <td>6414100192</td>\n",
       "      <td>538000.0</td>\n",
       "      <td>3</td>\n",
       "      <td>2.25</td>\n",
       "      <td>238.76071</td>\n",
       "      <td>672.803526</td>\n",
       "      <td>2.0</td>\n",
       "      <td>0</td>\n",
       "      <td>0</td>\n",
       "      <td>...</td>\n",
       "      <td>201.59951</td>\n",
       "      <td>37.16120</td>\n",
       "      <td>1951</td>\n",
       "      <td>1991</td>\n",
       "      <td>98125</td>\n",
       "      <td>47.7210</td>\n",
       "      <td>-122.319</td>\n",
       "      <td>157.00607</td>\n",
       "      <td>709.686017</td>\n",
       "      <td>2253.302061</td>\n",
       "    </tr>\n",
       "    <tr>\n",
       "      <th>2</th>\n",
       "      <td>2015-02-25</td>\n",
       "      <td>5631500400</td>\n",
       "      <td>180000.0</td>\n",
       "      <td>2</td>\n",
       "      <td>1.00</td>\n",
       "      <td>71.53531</td>\n",
       "      <td>929.030000</td>\n",
       "      <td>1.0</td>\n",
       "      <td>0</td>\n",
       "      <td>0</td>\n",
       "      <td>...</td>\n",
       "      <td>71.53531</td>\n",
       "      <td>0.00000</td>\n",
       "      <td>1933</td>\n",
       "      <td>0</td>\n",
       "      <td>98028</td>\n",
       "      <td>47.7379</td>\n",
       "      <td>-122.233</td>\n",
       "      <td>252.69616</td>\n",
       "      <td>748.983986</td>\n",
       "      <td>2516.239882</td>\n",
       "    </tr>\n",
       "    <tr>\n",
       "      <th>3</th>\n",
       "      <td>2014-12-09</td>\n",
       "      <td>2487200875</td>\n",
       "      <td>604000.0</td>\n",
       "      <td>4</td>\n",
       "      <td>3.00</td>\n",
       "      <td>182.08988</td>\n",
       "      <td>464.515000</td>\n",
       "      <td>1.0</td>\n",
       "      <td>0</td>\n",
       "      <td>0</td>\n",
       "      <td>...</td>\n",
       "      <td>97.54815</td>\n",
       "      <td>84.54173</td>\n",
       "      <td>1965</td>\n",
       "      <td>0</td>\n",
       "      <td>98136</td>\n",
       "      <td>47.5208</td>\n",
       "      <td>-122.393</td>\n",
       "      <td>126.34808</td>\n",
       "      <td>464.515000</td>\n",
       "      <td>3317.043210</td>\n",
       "    </tr>\n",
       "    <tr>\n",
       "      <th>4</th>\n",
       "      <td>2015-02-18</td>\n",
       "      <td>1954400510</td>\n",
       "      <td>510000.0</td>\n",
       "      <td>3</td>\n",
       "      <td>2.00</td>\n",
       "      <td>156.07704</td>\n",
       "      <td>750.656240</td>\n",
       "      <td>1.0</td>\n",
       "      <td>0</td>\n",
       "      <td>0</td>\n",
       "      <td>...</td>\n",
       "      <td>156.07704</td>\n",
       "      <td>0.00000</td>\n",
       "      <td>1987</td>\n",
       "      <td>0</td>\n",
       "      <td>98074</td>\n",
       "      <td>47.6168</td>\n",
       "      <td>-122.045</td>\n",
       "      <td>167.22540</td>\n",
       "      <td>697.051209</td>\n",
       "      <td>3267.617069</td>\n",
       "    </tr>\n",
       "  </tbody>\n",
       "</table>\n",
       "<p>5 rows × 22 columns</p>\n",
       "</div>"
      ],
      "text/plain": [
       "         date          id     price  bedrooms  bathrooms  m2_living  \\\n",
       "0  2014-10-13  7129300520  221900.0         3       1.00  109.62554   \n",
       "1  2014-12-09  6414100192  538000.0         3       2.25  238.76071   \n",
       "2  2015-02-25  5631500400  180000.0         2       1.00   71.53531   \n",
       "3  2014-12-09  2487200875  604000.0         4       3.00  182.08988   \n",
       "4  2015-02-18  1954400510  510000.0         3       2.00  156.07704   \n",
       "\n",
       "       m2_lot  floors  waterfront  view  ...   m2_above  m2_basement  \\\n",
       "0  524.901950     1.0           0     0  ...  109.62554      0.00000   \n",
       "1  672.803526     2.0           0     0  ...  201.59951     37.16120   \n",
       "2  929.030000     1.0           0     0  ...   71.53531      0.00000   \n",
       "3  464.515000     1.0           0     0  ...   97.54815     84.54173   \n",
       "4  750.656240     1.0           0     0  ...  156.07704      0.00000   \n",
       "\n",
       "   yr_built  yr_renovated  zipcode      lat     long  m2_living15    m2_lot15  \\\n",
       "0      1955             0    98178  47.5112 -122.257    124.49002  524.901950   \n",
       "1      1951          1991    98125  47.7210 -122.319    157.00607  709.686017   \n",
       "2      1933             0    98028  47.7379 -122.233    252.69616  748.983986   \n",
       "3      1965             0    98136  47.5208 -122.393    126.34808  464.515000   \n",
       "4      1987             0    98074  47.6168 -122.045    167.22540  697.051209   \n",
       "\n",
       "      price_m2  \n",
       "0  2024.163347  \n",
       "1  2253.302061  \n",
       "2  2516.239882  \n",
       "3  3317.043210  \n",
       "4  3267.617069  \n",
       "\n",
       "[5 rows x 22 columns]"
      ]
     },
     "execution_count": 61,
     "metadata": {},
     "output_type": "execute_result"
    }
   ],
   "source": [
    "df_model.head(5)"
   ]
  },
  {
   "cell_type": "code",
   "execution_count": 62,
   "metadata": {},
   "outputs": [
    {
     "name": "stdout",
     "output_type": "stream",
     "text": [
      "{'metric': 'manhattan', 'n_neighbors': 7}\n"
     ]
    }
   ],
   "source": [
    "X = df_model[['lat','long','m2_living','grade','view','m2_above','bathrooms','zipcode','m2_basement','bedrooms','waterfront','floors','yr_renovated','m2_lot','yr_built','condition']]\n",
    "y = df_model['price']\n",
    "X_train, X_test, y_train, y_test = train_test_split(X,y,test_size=0.2,random_state=4)\n",
    "\n",
    "numeric_features = list(X.select_dtypes(include=['float64','int64']).columns)\n",
    "catagorical_features = ['zipcode']\n",
    "\n",
    "numeric_transformer = Pipeline([\n",
    "    ('min_max', MinMaxScaler())\n",
    "])\n",
    "\n",
    "catagorical_transformer = OneHotEncoder(sparse=True)\n",
    "\n",
    "preprocessor = ColumnTransformer(\n",
    "    transformers=[\n",
    "        ('num', numeric_transformer, numeric_features),\n",
    "        ('cat', catagorical_transformer, catagorical_features)\n",
    "    ])\n",
    "\n",
    "param_grid= {'n_neighbors':np.arange(1,20),\n",
    "             'metric':['euclidean','manhattan']}\n",
    "\n",
    "grid = GridSearchCV(KNeighborsRegressor(), param_grid, cv=5)\n",
    "\n",
    "grid.fit(X_train, y_train)\n",
    "knn = grid.best_estimator_\n",
    "\n",
    "knn = KNeighborsRegressor()\n",
    "\n",
    "pipe = Pipeline([\n",
    "    ('prep',preprocessor),\n",
    "    ('knn',knn)\n",
    "                \n",
    "])\n",
    "\n",
    "print(grid.best_params_)"
   ]
  },
  {
   "cell_type": "code",
   "execution_count": 63,
   "metadata": {},
   "outputs": [
    {
     "name": "stderr",
     "output_type": "stream",
     "text": [
      "/home/apprenant/miniconda3/envs/machine-learning/lib/python3.10/site-packages/sklearn/preprocessing/_encoders.py:828: FutureWarning: `sparse` was renamed to `sparse_output` in version 1.2 and will be removed in 1.4. `sparse_output` is ignored unless you leave `sparse` to its default value.\n",
      "  warnings.warn(\n"
     ]
    }
   ],
   "source": [
    "trained_pipe = pipe.fit(X_train, y_train)"
   ]
  },
  {
   "cell_type": "code",
   "execution_count": 64,
   "metadata": {},
   "outputs": [],
   "source": [
    "predictions = trained_pipe.predict(X_test)"
   ]
  },
  {
   "cell_type": "code",
   "execution_count": 65,
   "metadata": {},
   "outputs": [
    {
     "data": {
      "text/plain": [
       "0.7487576780441314"
      ]
     },
     "execution_count": 65,
     "metadata": {},
     "output_type": "execute_result"
    }
   ],
   "source": [
    "trained_pipe.score(X_test, y_test)"
   ]
  },
  {
   "cell_type": "code",
   "execution_count": 66,
   "metadata": {},
   "outputs": [
    {
     "data": {
      "text/plain": [
       "[<matplotlib.lines.Line2D at 0x7fe85d16cee0>]"
      ]
     },
     "execution_count": 66,
     "metadata": {},
     "output_type": "execute_result"
    },
    {
     "data": {
      "image/png": "[encoded data removed]",
      "text/plain": [
       "<Figure size 640x480 with 1 Axes>"
      ]
     },
     "metadata": {},
     "output_type": "display_data"
    }
   ],
   "source": [
    "plt.scatter(y_test,predictions)\n",
    "plt.plot([y_test.min(), y_test.max()], [y_test.min(), y_test.max()], 'k--')\n"
   ]
  },
  {
   "cell_type": "code",
   "execution_count": null,
   "metadata": {},
   "outputs": [],
   "source": []
  }
 ],
 "metadata": {
  "kernelspec": {
   "display_name": "machine-learning",
   "language": "python",
   "name": "python3"
  },
  "language_info": {
   "codemirror_mode": {
    "name": "ipython",
    "version": 3
   },
   "file_extension": ".py",
   "mimetype": "text/x-python",
   "name": "python",
   "nbconvert_exporter": "python",
   "pygments_lexer": "ipython3",
   "version": "3.10.9"
  },
  "orig_nbformat": 4,
  "vscode": {
   "interpreter": {
    "hash": "ce8263f54646eff212f75d029976341b1907292128b7f9fc9935844628a6029c"
   }
  }
 },
 "nbformat": 4,
 "nbformat_minor": 2
}
