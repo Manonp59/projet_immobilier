{
 "cells": [
  {
   "cell_type": "code",
   "execution_count": 1,
   "metadata": {},
   "outputs": [],
   "source": [
    "# import des packages nécessaires à l'exécution du code \n",
    "\n",
    "import pandas as pd \n",
    "from sklearn.model_selection import train_test_split\n",
    "from sklearn import linear_model\n",
    "from sklearn.pipeline import Pipeline\n",
    "from sklearn.preprocessing import MinMaxScaler, RobustScaler\n",
    "from sklearn.preprocessing import OneHotEncoder\n",
    "from sklearn.preprocessing import PolynomialFeatures\n",
    "from sklearn.compose import ColumnTransformer\n",
    "import matplotlib.pyplot as plt\n",
    "import pickle\n",
    "from sklearn.linear_model import Lasso\n",
    "from sklearn.model_selection import GridSearchCV"
   ]
  },
  {
   "cell_type": "markdown",
   "metadata": {},
   "source": [
    "## Modèle 5 - Régression linéaire, avec valeurs extrêmes, uniquement variables qu'on peut demander à l'utilisateur"
   ]
  },
  {
   "cell_type": "markdown",
   "metadata": {},
   "source": [
    "Ce modèle sera celui qui contient les valeurs extrêmes : moins précis mais moins restrictif. Les features sont : \n",
    "- les différentes surfaces (m2_living, m2_above,m2_basement,m2_lot)\n",
    "- le nombre de pièces (bedrooms,bathrooms) et d'étages (floors)\n",
    "- les années de construction, rénovation\n",
    "- les notes obtenues sur différents sujets (grade,condition,view)\n",
    "- localisation (zipcode, lat, long, waterfront)\n",
    "\n",
    "J'ai retiré les features qu'il ne paraît pas logique de demander à un propriétaire, qu'il aurait du mal à connaître."
   ]
  },
  {
   "cell_type": "markdown",
   "metadata": {},
   "source": [
    "Preprocessing : \n",
    "- MinMaxScaler\n",
    "- PolynomialFeature\n",
    "- OneHotEncoder"
   ]
  },
  {
   "cell_type": "code",
   "execution_count": 3,
   "metadata": {},
   "outputs": [],
   "source": [
    "df_model = pd.read_csv('data_cleaned.csv')"
   ]
  },
  {
   "cell_type": "code",
   "execution_count": 4,
   "metadata": {},
   "outputs": [
    {
     "data": {
      "text/html": [
       "<div>\n",
       "<style scoped>\n",
       "    .dataframe tbody tr th:only-of-type {\n",
       "        vertical-align: middle;\n",
       "    }\n",
       "\n",
       "    .dataframe tbody tr th {\n",
       "        vertical-align: top;\n",
       "    }\n",
       "\n",
       "    .dataframe thead th {\n",
       "        text-align: right;\n",
       "    }\n",
       "</style>\n",
       "<table border=\"1\" class=\"dataframe\">\n",
       "  <thead>\n",
       "    <tr style=\"text-align: right;\">\n",
       "      <th></th>\n",
       "      <th>date</th>\n",
       "      <th>id</th>\n",
       "      <th>price</th>\n",
       "      <th>bedrooms</th>\n",
       "      <th>bathrooms</th>\n",
       "      <th>m2_living</th>\n",
       "      <th>m2_lot</th>\n",
       "      <th>floors</th>\n",
       "      <th>waterfront</th>\n",
       "      <th>view</th>\n",
       "      <th>...</th>\n",
       "      <th>m2_above</th>\n",
       "      <th>m2_basement</th>\n",
       "      <th>yr_built</th>\n",
       "      <th>yr_renovated</th>\n",
       "      <th>zipcode</th>\n",
       "      <th>lat</th>\n",
       "      <th>long</th>\n",
       "      <th>m2_living15</th>\n",
       "      <th>m2_lot15</th>\n",
       "      <th>price_m2</th>\n",
       "    </tr>\n",
       "  </thead>\n",
       "  <tbody>\n",
       "    <tr>\n",
       "      <th>0</th>\n",
       "      <td>2014-10-13</td>\n",
       "      <td>7129300520</td>\n",
       "      <td>221900.0</td>\n",
       "      <td>3</td>\n",
       "      <td>1.00</td>\n",
       "      <td>109.62554</td>\n",
       "      <td>524.901950</td>\n",
       "      <td>1.0</td>\n",
       "      <td>0</td>\n",
       "      <td>0</td>\n",
       "      <td>...</td>\n",
       "      <td>109.62554</td>\n",
       "      <td>0.00000</td>\n",
       "      <td>1955</td>\n",
       "      <td>0</td>\n",
       "      <td>98178</td>\n",
       "      <td>47.5112</td>\n",
       "      <td>-122.257</td>\n",
       "      <td>124.49002</td>\n",
       "      <td>524.901950</td>\n",
       "      <td>2024.163347</td>\n",
       "    </tr>\n",
       "    <tr>\n",
       "      <th>1</th>\n",
       "      <td>2014-12-09</td>\n",
       "      <td>6414100192</td>\n",
       "      <td>538000.0</td>\n",
       "      <td>3</td>\n",
       "      <td>2.25</td>\n",
       "      <td>238.76071</td>\n",
       "      <td>672.803526</td>\n",
       "      <td>2.0</td>\n",
       "      <td>0</td>\n",
       "      <td>0</td>\n",
       "      <td>...</td>\n",
       "      <td>201.59951</td>\n",
       "      <td>37.16120</td>\n",
       "      <td>1951</td>\n",
       "      <td>1991</td>\n",
       "      <td>98125</td>\n",
       "      <td>47.7210</td>\n",
       "      <td>-122.319</td>\n",
       "      <td>157.00607</td>\n",
       "      <td>709.686017</td>\n",
       "      <td>2253.302061</td>\n",
       "    </tr>\n",
       "    <tr>\n",
       "      <th>2</th>\n",
       "      <td>2015-02-25</td>\n",
       "      <td>5631500400</td>\n",
       "      <td>180000.0</td>\n",
       "      <td>2</td>\n",
       "      <td>1.00</td>\n",
       "      <td>71.53531</td>\n",
       "      <td>929.030000</td>\n",
       "      <td>1.0</td>\n",
       "      <td>0</td>\n",
       "      <td>0</td>\n",
       "      <td>...</td>\n",
       "      <td>71.53531</td>\n",
       "      <td>0.00000</td>\n",
       "      <td>1933</td>\n",
       "      <td>0</td>\n",
       "      <td>98028</td>\n",
       "      <td>47.7379</td>\n",
       "      <td>-122.233</td>\n",
       "      <td>252.69616</td>\n",
       "      <td>748.983986</td>\n",
       "      <td>2516.239882</td>\n",
       "    </tr>\n",
       "    <tr>\n",
       "      <th>3</th>\n",
       "      <td>2014-12-09</td>\n",
       "      <td>2487200875</td>\n",
       "      <td>604000.0</td>\n",
       "      <td>4</td>\n",
       "      <td>3.00</td>\n",
       "      <td>182.08988</td>\n",
       "      <td>464.515000</td>\n",
       "      <td>1.0</td>\n",
       "      <td>0</td>\n",
       "      <td>0</td>\n",
       "      <td>...</td>\n",
       "      <td>97.54815</td>\n",
       "      <td>84.54173</td>\n",
       "      <td>1965</td>\n",
       "      <td>0</td>\n",
       "      <td>98136</td>\n",
       "      <td>47.5208</td>\n",
       "      <td>-122.393</td>\n",
       "      <td>126.34808</td>\n",
       "      <td>464.515000</td>\n",
       "      <td>3317.043210</td>\n",
       "    </tr>\n",
       "    <tr>\n",
       "      <th>4</th>\n",
       "      <td>2015-02-18</td>\n",
       "      <td>1954400510</td>\n",
       "      <td>510000.0</td>\n",
       "      <td>3</td>\n",
       "      <td>2.00</td>\n",
       "      <td>156.07704</td>\n",
       "      <td>750.656240</td>\n",
       "      <td>1.0</td>\n",
       "      <td>0</td>\n",
       "      <td>0</td>\n",
       "      <td>...</td>\n",
       "      <td>156.07704</td>\n",
       "      <td>0.00000</td>\n",
       "      <td>1987</td>\n",
       "      <td>0</td>\n",
       "      <td>98074</td>\n",
       "      <td>47.6168</td>\n",
       "      <td>-122.045</td>\n",
       "      <td>167.22540</td>\n",
       "      <td>697.051209</td>\n",
       "      <td>3267.617069</td>\n",
       "    </tr>\n",
       "  </tbody>\n",
       "</table>\n",
       "<p>5 rows × 22 columns</p>\n",
       "</div>"
      ],
      "text/plain": [
       "         date          id     price  bedrooms  bathrooms  m2_living  \\\n",
       "0  2014-10-13  7129300520  221900.0         3       1.00  109.62554   \n",
       "1  2014-12-09  6414100192  538000.0         3       2.25  238.76071   \n",
       "2  2015-02-25  5631500400  180000.0         2       1.00   71.53531   \n",
       "3  2014-12-09  2487200875  604000.0         4       3.00  182.08988   \n",
       "4  2015-02-18  1954400510  510000.0         3       2.00  156.07704   \n",
       "\n",
       "       m2_lot  floors  waterfront  view  ...   m2_above  m2_basement  \\\n",
       "0  524.901950     1.0           0     0  ...  109.62554      0.00000   \n",
       "1  672.803526     2.0           0     0  ...  201.59951     37.16120   \n",
       "2  929.030000     1.0           0     0  ...   71.53531      0.00000   \n",
       "3  464.515000     1.0           0     0  ...   97.54815     84.54173   \n",
       "4  750.656240     1.0           0     0  ...  156.07704      0.00000   \n",
       "\n",
       "   yr_built  yr_renovated  zipcode      lat     long  m2_living15    m2_lot15  \\\n",
       "0      1955             0    98178  47.5112 -122.257    124.49002  524.901950   \n",
       "1      1951          1991    98125  47.7210 -122.319    157.00607  709.686017   \n",
       "2      1933             0    98028  47.7379 -122.233    252.69616  748.983986   \n",
       "3      1965             0    98136  47.5208 -122.393    126.34808  464.515000   \n",
       "4      1987             0    98074  47.6168 -122.045    167.22540  697.051209   \n",
       "\n",
       "      price_m2  \n",
       "0  2024.163347  \n",
       "1  2253.302061  \n",
       "2  2516.239882  \n",
       "3  3317.043210  \n",
       "4  3267.617069  \n",
       "\n",
       "[5 rows x 22 columns]"
      ]
     },
     "execution_count": 4,
     "metadata": {},
     "output_type": "execute_result"
    }
   ],
   "source": [
    "df_model.head(5)"
   ]
  },
  {
   "cell_type": "code",
   "execution_count": 10,
   "metadata": {},
   "outputs": [],
   "source": [
    "X = df_model[['m2_living','grade','view','m2_above','bathrooms','zipcode','m2_basement','bedrooms','waterfront','floors','yr_renovated','m2_lot','yr_built','condition']]\n",
    "y = df_model['price']\n",
    "X_train, X_test, y_train, y_test = train_test_split(X,y,test_size=0.2,random_state=420)\n",
    "\n",
    "numeric_features = list(X.drop(['view'],axis=1).select_dtypes(include=['float64','int64']).columns)\n",
    "catagorical_features = ['zipcode','view']\n",
    "\n",
    "numeric_transformer = Pipeline([\n",
    "    ('poly', PolynomialFeatures(degree=2, include_bias=False)),\n",
    "    ('robust', RobustScaler())\n",
    "])\n",
    "\n",
    "catagorical_transformer = OneHotEncoder(sparse=True)\n",
    "\n",
    "preprocessor = ColumnTransformer(\n",
    "    transformers=[\n",
    "        ('num', numeric_transformer, numeric_features),\n",
    "        ('cat', catagorical_transformer, catagorical_features)\n",
    "    ])\n",
    "\n",
    "regression = linear_model.LinearRegression()\n",
    "\n",
    "pipe = Pipeline([\n",
    "    ('prep',preprocessor),\n",
    "    ('reg',regression)\n",
    "                \n",
    "])"
   ]
  },
  {
   "cell_type": "code",
   "execution_count": 11,
   "metadata": {},
   "outputs": [
    {
     "name": "stderr",
     "output_type": "stream",
     "text": [
      "/home/apprenant/miniconda3/envs/machine-learning/lib/python3.10/site-packages/sklearn/preprocessing/_encoders.py:828: FutureWarning: `sparse` was renamed to `sparse_output` in version 1.2 and will be removed in 1.4. `sparse_output` is ignored unless you leave `sparse` to its default value.\n",
      "  warnings.warn(\n"
     ]
    }
   ],
   "source": [
    "trained_pipe = pipe.fit(X_train, y_train)"
   ]
  },
  {
   "cell_type": "code",
   "execution_count": 22,
   "metadata": {},
   "outputs": [
    {
     "data": {
      "text/plain": [
       "m2_living       float64\n",
       "grade             int64\n",
       "view              int64\n",
       "m2_above        float64\n",
       "bathrooms       float64\n",
       "zipcode           int64\n",
       "m2_basement     float64\n",
       "bedrooms          int64\n",
       "waterfront        int64\n",
       "floors          float64\n",
       "yr_renovated      int64\n",
       "m2_lot          float64\n",
       "yr_built          int64\n",
       "condition         int64\n",
       "dtype: object"
      ]
     },
     "execution_count": 22,
     "metadata": {},
     "output_type": "execute_result"
    }
   ],
   "source": [
    "X_test.dtypes"
   ]
  },
  {
   "cell_type": "code",
   "execution_count": 7,
   "metadata": {},
   "outputs": [
    {
     "name": "stdout",
     "output_type": "stream",
     "text": [
      "[282256. 313976. 505784. ... 373712. 676864. 477688.]\n",
      "8878     289900.0\n",
      "14851    345000.0\n",
      "1564     610000.0\n",
      "4055     363000.0\n",
      "7526     376000.0\n",
      "           ...   \n",
      "8892     440000.0\n",
      "14761    530000.0\n",
      "14288    400000.0\n",
      "7275     693000.0\n",
      "20522    374500.0\n",
      "Name: price, Length: 4322, dtype: float64\n"
     ]
    }
   ],
   "source": [
    "predictions = trained_pipe.predict(X_test)\n",
    "print(predictions)\n",
    "print(y_test)"
   ]
  },
  {
   "cell_type": "code",
   "execution_count": 11,
   "metadata": {},
   "outputs": [
    {
     "data": {
      "text/html": [
       "<div>\n",
       "<style scoped>\n",
       "    .dataframe tbody tr th:only-of-type {\n",
       "        vertical-align: middle;\n",
       "    }\n",
       "\n",
       "    .dataframe tbody tr th {\n",
       "        vertical-align: top;\n",
       "    }\n",
       "\n",
       "    .dataframe thead th {\n",
       "        text-align: right;\n",
       "    }\n",
       "</style>\n",
       "<table border=\"1\" class=\"dataframe\">\n",
       "  <thead>\n",
       "    <tr style=\"text-align: right;\">\n",
       "      <th></th>\n",
       "      <th>m2_living</th>\n",
       "      <th>grade</th>\n",
       "      <th>view</th>\n",
       "      <th>m2_above</th>\n",
       "      <th>bathrooms</th>\n",
       "      <th>zipcode</th>\n",
       "      <th>m2_basement</th>\n",
       "      <th>bedrooms</th>\n",
       "      <th>waterfront</th>\n",
       "      <th>floors</th>\n",
       "      <th>yr_renovated</th>\n",
       "      <th>m2_lot</th>\n",
       "      <th>yr_built</th>\n",
       "      <th>condition</th>\n",
       "    </tr>\n",
       "  </thead>\n",
       "  <tbody>\n",
       "    <tr>\n",
       "      <th>8878</th>\n",
       "      <td>176.422797</td>\n",
       "      <td>7</td>\n",
       "      <td>0</td>\n",
       "      <td>176.422797</td>\n",
       "      <td>1.75</td>\n",
       "      <td>98198</td>\n",
       "      <td>0.00000</td>\n",
       "      <td>3</td>\n",
       "      <td>0</td>\n",
       "      <td>2.0</td>\n",
       "      <td>2005</td>\n",
       "      <td>1052.126475</td>\n",
       "      <td>1943</td>\n",
       "      <td>3</td>\n",
       "    </tr>\n",
       "    <tr>\n",
       "      <th>14851</th>\n",
       "      <td>164.438310</td>\n",
       "      <td>8</td>\n",
       "      <td>3</td>\n",
       "      <td>113.341660</td>\n",
       "      <td>1.00</td>\n",
       "      <td>98023</td>\n",
       "      <td>51.09665</td>\n",
       "      <td>2</td>\n",
       "      <td>0</td>\n",
       "      <td>1.0</td>\n",
       "      <td>0</td>\n",
       "      <td>1547.763980</td>\n",
       "      <td>1957</td>\n",
       "      <td>3</td>\n",
       "    </tr>\n",
       "    <tr>\n",
       "      <th>1564</th>\n",
       "      <td>167.225400</td>\n",
       "      <td>7</td>\n",
       "      <td>0</td>\n",
       "      <td>96.619120</td>\n",
       "      <td>1.00</td>\n",
       "      <td>98117</td>\n",
       "      <td>70.60628</td>\n",
       "      <td>3</td>\n",
       "      <td>0</td>\n",
       "      <td>1.0</td>\n",
       "      <td>0</td>\n",
       "      <td>534.192250</td>\n",
       "      <td>1947</td>\n",
       "      <td>3</td>\n",
       "    </tr>\n",
       "    <tr>\n",
       "      <th>4055</th>\n",
       "      <td>104.051360</td>\n",
       "      <td>7</td>\n",
       "      <td>0</td>\n",
       "      <td>71.535310</td>\n",
       "      <td>1.00</td>\n",
       "      <td>98126</td>\n",
       "      <td>32.51605</td>\n",
       "      <td>2</td>\n",
       "      <td>0</td>\n",
       "      <td>1.0</td>\n",
       "      <td>0</td>\n",
       "      <td>445.934400</td>\n",
       "      <td>1926</td>\n",
       "      <td>3</td>\n",
       "    </tr>\n",
       "    <tr>\n",
       "      <th>7526</th>\n",
       "      <td>124.490020</td>\n",
       "      <td>8</td>\n",
       "      <td>0</td>\n",
       "      <td>124.490020</td>\n",
       "      <td>2.00</td>\n",
       "      <td>98029</td>\n",
       "      <td>0.00000</td>\n",
       "      <td>2</td>\n",
       "      <td>0</td>\n",
       "      <td>2.0</td>\n",
       "      <td>0</td>\n",
       "      <td>151.896405</td>\n",
       "      <td>2003</td>\n",
       "      <td>3</td>\n",
       "    </tr>\n",
       "  </tbody>\n",
       "</table>\n",
       "</div>"
      ],
      "text/plain": [
       "        m2_living  grade  view    m2_above  bathrooms  zipcode  m2_basement  \\\n",
       "8878   176.422797      7     0  176.422797       1.75    98198      0.00000   \n",
       "14851  164.438310      8     3  113.341660       1.00    98023     51.09665   \n",
       "1564   167.225400      7     0   96.619120       1.00    98117     70.60628   \n",
       "4055   104.051360      7     0   71.535310       1.00    98126     32.51605   \n",
       "7526   124.490020      8     0  124.490020       2.00    98029      0.00000   \n",
       "\n",
       "       bedrooms  waterfront  floors  yr_renovated       m2_lot  yr_built  \\\n",
       "8878          3           0     2.0          2005  1052.126475      1943   \n",
       "14851         2           0     1.0             0  1547.763980      1957   \n",
       "1564          3           0     1.0             0   534.192250      1947   \n",
       "4055          2           0     1.0             0   445.934400      1926   \n",
       "7526          2           0     2.0             0   151.896405      2003   \n",
       "\n",
       "       condition  \n",
       "8878           3  \n",
       "14851          3  \n",
       "1564           3  \n",
       "4055           3  \n",
       "7526           3  "
      ]
     },
     "execution_count": 11,
     "metadata": {},
     "output_type": "execute_result"
    }
   ],
   "source": [
    "X_test.head()"
   ]
  },
  {
   "cell_type": "code",
   "execution_count": 12,
   "metadata": {},
   "outputs": [
    {
     "data": {
      "text/plain": [
       "8878     289900.0\n",
       "14851    345000.0\n",
       "1564     610000.0\n",
       "4055     363000.0\n",
       "7526     376000.0\n",
       "Name: price, dtype: float64"
      ]
     },
     "execution_count": 12,
     "metadata": {},
     "output_type": "execute_result"
    }
   ],
   "source": [
    "y_test.head()"
   ]
  },
  {
   "cell_type": "code",
   "execution_count": 13,
   "metadata": {},
   "outputs": [
    {
     "name": "stdout",
     "output_type": "stream",
     "text": [
      "[-1.23801813e+09]\n"
     ]
    }
   ],
   "source": [
    "data = {\n",
    "    'bedrooms': [4],\n",
    "    'bathrooms': [1.0],\n",
    "    'm2_living': [197.91584],\n",
    "    'm2_lot': [1052.370936],\n",
    "    'floors': [2.0],\n",
    "    'waterfront': [1],\n",
    "    'view': [0],\n",
    "    'condition': [3],\n",
    "    'grade': [7],\n",
    "    'm2_above': [178.91584],\n",
    "    'yr_built': [1950],\n",
    "    'zipcode': [98198],\n",
    "    'm2_basement': [0],\n",
    "    'yr_renovated': [2005]\n",
    "}\n",
    "\n",
    "X_test = pd.DataFrame(data)\n",
    "\n",
    "y_pred = pipe.predict(X_test)\n",
    "print(y_pred)"
   ]
  },
  {
   "cell_type": "code",
   "execution_count": 12,
   "metadata": {},
   "outputs": [
    {
     "name": "stdout",
     "output_type": "stream",
     "text": [
      "[278103.83683963 356049.6217405  511993.8623897  ... 380013.24129856\n",
      " 677725.49524233 503898.81630916]\n",
      "8878     289900.0\n",
      "14851    345000.0\n",
      "1564     610000.0\n",
      "4055     363000.0\n",
      "7526     376000.0\n",
      "           ...   \n",
      "8892     440000.0\n",
      "14761    530000.0\n",
      "14288    400000.0\n",
      "7275     693000.0\n",
      "20522    374500.0\n",
      "Name: price, Length: 4322, dtype: float64\n"
     ]
    }
   ],
   "source": [
    "trained_pipe.score(X_test, y_test)\n",
    "print(predictions)\n",
    "print(y_test)"
   ]
  },
  {
   "cell_type": "code",
   "execution_count": 9,
   "metadata": {},
   "outputs": [
    {
     "data": {
      "text/plain": [
       "[<matplotlib.lines.Line2D at 0x7fed55318d30>]"
      ]
     },
     "execution_count": 9,
     "metadata": {},
     "output_type": "execute_result"
    },
    {
     "data": {
      "image/png": "[encoded data removed]",
      "text/plain": [
       "<Figure size 640x480 with 1 Axes>"
      ]
     },
     "metadata": {},
     "output_type": "display_data"
    }
   ],
   "source": [
    "plt.scatter(y_test,predictions)\n",
    "plt.plot([y_test.min(), y_test.max()], [y_test.min(), y_test.max()], 'k--')\n"
   ]
  },
  {
   "attachments": {},
   "cell_type": "markdown",
   "metadata": {},
   "source": [
    "## Sauvegarde avec pickle"
   ]
  },
  {
   "cell_type": "code",
   "execution_count": 10,
   "metadata": {},
   "outputs": [],
   "source": [
    "with open('model.pickle','wb') as f: \n",
    "    pickle.dump(trained_pipe,f)"
   ]
  },
  {
   "attachments": {},
   "cell_type": "markdown",
   "metadata": {},
   "source": [
    "# Lasso"
   ]
  },
  {
   "cell_type": "code",
   "execution_count": 2,
   "metadata": {},
   "outputs": [],
   "source": [
    "df_model = pd.read_csv('data_cleaned.csv')"
   ]
  },
  {
   "cell_type": "code",
   "execution_count": 14,
   "metadata": {},
   "outputs": [
    {
     "name": "stderr",
     "output_type": "stream",
     "text": [
      "/home/apprenant/miniconda3/envs/machine-learning/lib/python3.10/site-packages/sklearn/linear_model/_coordinate_descent.py:631: ConvergenceWarning: Objective did not converge. You might want to increase the number of iterations, check the scale of the features or consider increasing regularisation. Duality gap: 7.519e+13, tolerance: 1.843e+11\n",
      "  model = cd_fast.enet_coordinate_descent(\n",
      "/home/apprenant/miniconda3/envs/machine-learning/lib/python3.10/site-packages/sklearn/linear_model/_coordinate_descent.py:631: ConvergenceWarning: Objective did not converge. You might want to increase the number of iterations, check the scale of the features or consider increasing regularisation. Duality gap: 7.437e+13, tolerance: 1.790e+11\n",
      "  model = cd_fast.enet_coordinate_descent(\n",
      "/home/apprenant/miniconda3/envs/machine-learning/lib/python3.10/site-packages/sklearn/linear_model/_coordinate_descent.py:631: ConvergenceWarning: Objective did not converge. You might want to increase the number of iterations, check the scale of the features or consider increasing regularisation. Duality gap: 7.271e+13, tolerance: 1.785e+11\n",
      "  model = cd_fast.enet_coordinate_descent(\n",
      "/home/apprenant/miniconda3/envs/machine-learning/lib/python3.10/site-packages/sklearn/linear_model/_coordinate_descent.py:631: ConvergenceWarning: Objective did not converge. You might want to increase the number of iterations, check the scale of the features or consider increasing regularisation. Duality gap: 7.270e+13, tolerance: 1.783e+11\n",
      "  model = cd_fast.enet_coordinate_descent(\n",
      "/home/apprenant/miniconda3/envs/machine-learning/lib/python3.10/site-packages/sklearn/linear_model/_coordinate_descent.py:631: ConvergenceWarning: Objective did not converge. You might want to increase the number of iterations, check the scale of the features or consider increasing regularisation. Duality gap: 7.433e+13, tolerance: 1.821e+11\n",
      "  model = cd_fast.enet_coordinate_descent(\n",
      "/home/apprenant/miniconda3/envs/machine-learning/lib/python3.10/site-packages/sklearn/linear_model/_coordinate_descent.py:631: ConvergenceWarning: Objective did not converge. You might want to increase the number of iterations, check the scale of the features or consider increasing regularisation. Duality gap: 7.519e+13, tolerance: 1.843e+11\n",
      "  model = cd_fast.enet_coordinate_descent(\n",
      "/home/apprenant/miniconda3/envs/machine-learning/lib/python3.10/site-packages/sklearn/linear_model/_coordinate_descent.py:631: ConvergenceWarning: Objective did not converge. You might want to increase the number of iterations, check the scale of the features or consider increasing regularisation. Duality gap: 7.438e+13, tolerance: 1.790e+11\n",
      "  model = cd_fast.enet_coordinate_descent(\n",
      "/home/apprenant/miniconda3/envs/machine-learning/lib/python3.10/site-packages/sklearn/linear_model/_coordinate_descent.py:631: ConvergenceWarning: Objective did not converge. You might want to increase the number of iterations, check the scale of the features or consider increasing regularisation. Duality gap: 7.271e+13, tolerance: 1.785e+11\n",
      "  model = cd_fast.enet_coordinate_descent(\n",
      "/home/apprenant/miniconda3/envs/machine-learning/lib/python3.10/site-packages/sklearn/linear_model/_coordinate_descent.py:631: ConvergenceWarning: Objective did not converge. You might want to increase the number of iterations, check the scale of the features or consider increasing regularisation. Duality gap: 7.271e+13, tolerance: 1.783e+11\n",
      "  model = cd_fast.enet_coordinate_descent(\n",
      "/home/apprenant/miniconda3/envs/machine-learning/lib/python3.10/site-packages/sklearn/linear_model/_coordinate_descent.py:631: ConvergenceWarning: Objective did not converge. You might want to increase the number of iterations, check the scale of the features or consider increasing regularisation. Duality gap: 7.434e+13, tolerance: 1.821e+11\n",
      "  model = cd_fast.enet_coordinate_descent(\n",
      "/home/apprenant/miniconda3/envs/machine-learning/lib/python3.10/site-packages/sklearn/linear_model/_coordinate_descent.py:631: ConvergenceWarning: Objective did not converge. You might want to increase the number of iterations, check the scale of the features or consider increasing regularisation. Duality gap: 7.525e+13, tolerance: 1.843e+11\n",
      "  model = cd_fast.enet_coordinate_descent(\n",
      "/home/apprenant/miniconda3/envs/machine-learning/lib/python3.10/site-packages/sklearn/linear_model/_coordinate_descent.py:631: ConvergenceWarning: Objective did not converge. You might want to increase the number of iterations, check the scale of the features or consider increasing regularisation. Duality gap: 7.443e+13, tolerance: 1.790e+11\n",
      "  model = cd_fast.enet_coordinate_descent(\n",
      "/home/apprenant/miniconda3/envs/machine-learning/lib/python3.10/site-packages/sklearn/linear_model/_coordinate_descent.py:631: ConvergenceWarning: Objective did not converge. You might want to increase the number of iterations, check the scale of the features or consider increasing regularisation. Duality gap: 7.276e+13, tolerance: 1.785e+11\n",
      "  model = cd_fast.enet_coordinate_descent(\n",
      "/home/apprenant/miniconda3/envs/machine-learning/lib/python3.10/site-packages/sklearn/linear_model/_coordinate_descent.py:631: ConvergenceWarning: Objective did not converge. You might want to increase the number of iterations, check the scale of the features or consider increasing regularisation. Duality gap: 7.275e+13, tolerance: 1.783e+11\n",
      "  model = cd_fast.enet_coordinate_descent(\n",
      "/home/apprenant/miniconda3/envs/machine-learning/lib/python3.10/site-packages/sklearn/linear_model/_coordinate_descent.py:631: ConvergenceWarning: Objective did not converge. You might want to increase the number of iterations, check the scale of the features or consider increasing regularisation. Duality gap: 7.439e+13, tolerance: 1.821e+11\n",
      "  model = cd_fast.enet_coordinate_descent(\n",
      "/home/apprenant/miniconda3/envs/machine-learning/lib/python3.10/site-packages/sklearn/linear_model/_coordinate_descent.py:631: ConvergenceWarning: Objective did not converge. You might want to increase the number of iterations, check the scale of the features or consider increasing regularisation. Duality gap: 9.246e+13, tolerance: 2.255e+11\n",
      "  model = cd_fast.enet_coordinate_descent(\n"
     ]
    }
   ],
   "source": [
    "X = df_model[['m2_living','grade','view','m2_above','bathrooms','zipcode','m2_basement','bedrooms','waterfront','floors','yr_renovated','m2_lot','yr_built','condition']]\n",
    "y = df_model['price']\n",
    "X_train, X_test, y_train, y_test = train_test_split(X,y,test_size=0.2,random_state=420)\n",
    "\n",
    "numeric_features = list(X.drop(['view'],axis=1).select_dtypes(include=['float64','int64']).columns)\n",
    "catagorical_features = ['zipcode','view']\n",
    "\n",
    "numeric_transformer = Pipeline([\n",
    "    ('poly', PolynomialFeatures(degree=2, include_bias=False)),\n",
    "    ('robust', RobustScaler())\n",
    "])\n",
    "\n",
    "catagorical_transformer = OneHotEncoder()\n",
    "\n",
    "preprocessor = ColumnTransformer(\n",
    "    transformers=[\n",
    "        ('num', numeric_transformer, numeric_features),\n",
    "        ('cat', catagorical_transformer, catagorical_features)\n",
    "    ])\n",
    "\n",
    "param_grid= {'alpha':[0.1,1,10]} \n",
    "\n",
    "grid = GridSearchCV(Lasso(), param_grid, cv=5)\n",
    "\n",
    "grid.fit(X_train, y_train)\n",
    "regression = grid.best_estimator_\n",
    "\n",
    "\n",
    "pipe = Pipeline([\n",
    "    ('prep',preprocessor),\n",
    "    ('reg',regression)\n",
    "                \n",
    "])"
   ]
  },
  {
   "cell_type": "code",
   "execution_count": 15,
   "metadata": {},
   "outputs": [
    {
     "name": "stderr",
     "output_type": "stream",
     "text": [
      "/home/apprenant/miniconda3/envs/machine-learning/lib/python3.10/site-packages/sklearn/linear_model/_coordinate_descent.py:631: ConvergenceWarning: Objective did not converge. You might want to increase the number of iterations, check the scale of the features or consider increasing regularisation. Duality gap: 1.586e+14, tolerance: 2.255e+11\n",
      "  model = cd_fast.enet_coordinate_descent(\n"
     ]
    },
    {
     "data": {
      "text/plain": [
       "0.8788393952319745"
      ]
     },
     "execution_count": 15,
     "metadata": {},
     "output_type": "execute_result"
    }
   ],
   "source": [
    "\n",
    "trained_pipe = pipe.fit(X_train, y_train)\n",
    "predictions = trained_pipe.predict(X_test)\n",
    "trained_pipe.score(X_test, y_test)\n"
   ]
  },
  {
   "cell_type": "code",
   "execution_count": 9,
   "metadata": {},
   "outputs": [
    {
     "name": "stdout",
     "output_type": "stream",
     "text": [
      "8878     289900.0\n",
      "14851    345000.0\n",
      "1564     610000.0\n",
      "4055     363000.0\n",
      "7526     376000.0\n",
      "           ...   \n",
      "8892     440000.0\n",
      "14761    530000.0\n",
      "14288    400000.0\n",
      "7275     693000.0\n",
      "20522    374500.0\n",
      "Name: price, Length: 4322, dtype: float64\n",
      "[278103.83683963 356049.6217405  511993.8623897  ... 380013.24129856\n",
      " 677725.49524233 503898.81630916]\n"
     ]
    }
   ],
   "source": [
    "print(y_test)\n",
    "print(predictions)"
   ]
  },
  {
   "cell_type": "code",
   "execution_count": 6,
   "metadata": {},
   "outputs": [
    {
     "name": "stdout",
     "output_type": "stream",
     "text": [
      "[516589.88313091]\n"
     ]
    }
   ],
   "source": [
    "data = {\n",
    "    'bedrooms': [4],\n",
    "    'bathrooms': [1.0],\n",
    "    'm2_living': [197.91584],\n",
    "    'm2_lot': [1052.370936],\n",
    "    'floors': [2.0],\n",
    "    'waterfront': [1],\n",
    "    'view': [0],\n",
    "    'condition': [3],\n",
    "    'grade': [7],\n",
    "    'm2_above': [178.91584],\n",
    "    'yr_built': [1950],\n",
    "    'zipcode': [98198],\n",
    "    'm2_basement': [0],\n",
    "    'yr_renovated': [2005]\n",
    "}\n",
    "\n",
    "X_test = pd.DataFrame(data)\n",
    "\n",
    "y_pred = pipe.predict(X_test)\n",
    "print(y_pred)"
   ]
  },
  {
   "cell_type": "code",
   "execution_count": 43,
   "metadata": {},
   "outputs": [],
   "source": [
    "## Sauvegarde avec pickle\n",
    "with open('model.pickle2','wb') as f: \n",
    "    pickle.dump(trained_pipe,f)"
   ]
  }
 ],
 "metadata": {
  "kernelspec": {
   "display_name": "machine-learning",
   "language": "python",
   "name": "python3"
  },
  "language_info": {
   "codemirror_mode": {
    "name": "ipython",
    "version": 3
   },
   "file_extension": ".py",
   "mimetype": "text/x-python",
   "name": "python",
   "nbconvert_exporter": "python",
   "pygments_lexer": "ipython3",
   "version": "3.10.9"
  },
  "orig_nbformat": 4,
  "vscode": {
   "interpreter": {
    "hash": "ce8263f54646eff212f75d029976341b1907292128b7f9fc9935844628a6029c"
   }
  }
 },
 "nbformat": 4,
 "nbformat_minor": 2
}
